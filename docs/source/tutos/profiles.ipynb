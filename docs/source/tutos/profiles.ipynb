{
 "cells": [
  {
   "cell_type": "markdown",
   "metadata": {},
   "source": [
    "# Emiproc Profiles\n",
    "\n",
    "This tutorial show you how profiles work in Emiproc.\n",
    "\n",
    "Currently it is not implemented.\n",
    "If you need this, please contact us as specified in the contact section of the doc."
   ]
  }
 ],
 "metadata": {
  "language_info": {
   "name": "python"
  }
 },
 "nbformat": 4,
 "nbformat_minor": 2
}
