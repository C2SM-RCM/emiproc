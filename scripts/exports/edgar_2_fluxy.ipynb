{
 "cells": [
  {
   "cell_type": "markdown",
   "metadata": {},
   "source": [
    "# EDGAR to fluxy \n",
    "\n",
    "Example how to convert EDGAR to fluxy format.\n",
    "\n",
    "Edgar processing taken from the edgar tutorial.\n"
   ]
  },
  {
   "cell_type": "markdown",
   "metadata": {},
   "source": [
    "## EDGAR Files\n",
    "\n",
    "In this section, we will examine the EDGAR NetCDF files.\n",
    "\n",
    "These files can be downloaded directly from the [EDGAR website](https://edgar.jrc.ec.europa.eu/emissions_data_and_maps). However, the most convenient method is to use the `download_edgar_files` function provided by emiproc, as demonstrated below.\n"
   ]
  },
  {
   "cell_type": "code",
   "execution_count": null,
   "metadata": {},
   "outputs": [],
   "source": [
    "from pathlib import Path\n",
    "from emiproc.inventories.edgar import download_edgar_files\n",
    "from emiproc import FILES_DIR\n",
    "import matplotlib.pyplot as plt\n",
    "\n",
    "\n",
    "plt.style.use(\"default\")\n",
    "\n",
    "local_dir = FILES_DIR / \"edgar\"\n",
    "local_dir.mkdir(exist_ok=True)\n",
    "\n",
    "years = [2020, 2021, 2022]"
   ]
  },
  {
   "cell_type": "code",
   "execution_count": null,
   "metadata": {},
   "outputs": [],
   "source": [
    "for year in years:\n",
    "    download_edgar_files(local_dir / \"data\"/  str(year), year=year, substances=[\"CH4\", \"CO2\", \"CO2bio\"])\n"
   ]
  },
  {
   "cell_type": "markdown",
   "metadata": {},
   "source": [
    "Creating code to parse inventory files for every project can be cumbersome.\n",
    "\n",
    "The goal of emiproc is to provide a straightforward interface for reading emissions inventories. In this case, you can use the `EDGARv8` class, which reads the EDGAR files and loads them as an `Inventory` object.\n"
   ]
  },
  {
   "cell_type": "code",
   "execution_count": null,
   "metadata": {},
   "outputs": [],
   "source": [
    "from emiproc.inventories.edgar import EDGARv8\n",
    "\n",
    "# Load the edgar inventory\n",
    "\n",
    "invs = [EDGARv8(local_dir / \"data\"/  str(year) / \"v8.0_*.nc\", year=year) for year in years]\n",
    "invs"
   ]
  },
  {
   "cell_type": "markdown",
   "metadata": {},
   "source": [
    "### Remapping the Inventory\n",
    "\n",
    "In this section, we will remap the inventory to a grid somehwere over europe and also until the east coast of the US.\n",
    "\n"
   ]
  },
  {
   "cell_type": "code",
   "execution_count": null,
   "metadata": {},
   "outputs": [],
   "source": [
    "from emiproc.grids import RegularGrid\n",
    "\n",
    "grid = RegularGrid(xmin=-74, xmax=7, ymin=35.5, ymax=71.2, nx=170, ny=120)\n",
    "grid"
   ]
  },
  {
   "cell_type": "markdown",
   "metadata": {},
   "source": [
    "In some cases, you may already have a grid for your simulation, which you could import into emiproc with appropriate code.\n",
    "A [tutorial for developer](\n",
    "    https://emiproc.readthedocs.io/en/master/contrib/create_grid.html\n",
    ")\n",
    " is available. "
   ]
  },
  {
   "cell_type": "code",
   "execution_count": null,
   "metadata": {},
   "outputs": [],
   "source": [
    "# Remap the inventory on the grid\n",
    "from emiproc.regrid import remap_inventory\n",
    "\n",
    "\n",
    "remappeds = [remap_inventory(inv, grid, weights_file=local_dir / \".weights_remap_fluxygrid_2\") for inv in invs]\n",
    "remappeds"
   ]
  },
  {
   "cell_type": "markdown",
   "metadata": {},
   "source": [
    "Let's examine our remapped inventory."
   ]
  },
  {
   "cell_type": "code",
   "execution_count": null,
   "metadata": {},
   "outputs": [],
   "source": [
    "from emiproc.plots import plot_inventory\n",
    "\n",
    "\n",
    "plot_inventory(remappeds[0], total_only=True)"
   ]
  },
  {
   "cell_type": "markdown",
   "metadata": {},
   "source": [
    "For this domain, the panorama is quite different.\n",
    "For example, waste is well-managed in Australia, so its fraction of the total emissions is smaller.\n",
    "Maybe Australia exports its waste to other regions such as Asia or Africa ? Who knows ?"
   ]
  },
  {
   "cell_type": "markdown",
   "metadata": {},
   "source": [
    "### Grouping Categories\n",
    "\n",
    "Many categories are similar and have very small emissions.\n",
    "\n",
    "In such cases, we can group some categories together to reduce the number of emission sectors."
   ]
  },
  {
   "cell_type": "code",
   "execution_count": null,
   "metadata": {},
   "outputs": [],
   "source": [
    "from emiproc.inventories.utils import group_categories\n",
    "from emiproc.speciation import merge_substances\n",
    "\n",
    "group = lambda inv : group_categories(\n",
    "    merge_substances(inv,{\"CO2\": [\"CO2\", \"CO2bio\"]}),\n",
    "    categories_group={\n",
    "        \"agriculture\": [\n",
    "            \"Agricultural soils\",\n",
    "            \"Agricultural waste burning\",\n",
    "            \"Manure management\",\n",
    "        ],\n",
    "        \"industry\": [\n",
    "            \"Chemical processes\",\n",
    "            \"Power Industry\",\n",
    "            \"Oil refineries and Transformation industry\",\n",
    "            \"Fuel exploitation\",\n",
    "            \"Energy for buildings\",\n",
    "            \"Combustion for manufacturing\",\n",
    "            \"Iron and steel production\",\n",
    "            \"Non energy use of fuels\",\n",
    "            \"Solvents and products use\",\n",
    "            \"Non-ferrous metals production\",\n",
    "            \"Non-metallic minerals production\",\n",
    "        ],\n",
    "        \"livestock\": [\"Enteric fermentation\"],\n",
    "        \"waste\": [\n",
    "            \"Waste water handling\",\n",
    "            \"Solid waste incineration\",\n",
    "            \"Solid waste landfills\",\n",
    "        ],\n",
    "        \"transportation\": [\n",
    "            \"Aviation climbing_and_descent\",\n",
    "            \"Aviation cruise\",\n",
    "            \"Aviation landing_and_takeoff\",\n",
    "            \"Railways, pipelines, off-road transport\",\n",
    "            \"Shipping\",\n",
    "            \"Road transportation\",\n",
    "        ],\n",
    "    },\n",
    ")\n",
    "grouppeds = [group(inv) for inv in remappeds]\n",
    "grouppeds[0].categories"
   ]
  },
  {
   "cell_type": "markdown",
   "metadata": {},
   "source": [
    "## Exporting the Inventory\n",
    "\n",
    "One of the main features of emiproc is its ability to export the inventory to various types of simulation inputs.\n",
    "\n",
    "In this example, we will save the inventory to a NetCDF file.\n"
   ]
  },
  {
   "cell_type": "code",
   "execution_count": null,
   "metadata": {},
   "outputs": [],
   "source": [
    "from emiproc.profiles.temporal.io import from_yaml\n",
    "\n",
    "yml_dir = FILES_DIR / \"profiles\" / \"yamls\"\n",
    "profiles = {\n",
    "    \"transportation\": from_yaml(yml_dir / \"light_daily.yaml\"),\n",
    "    \"industry\": from_yaml(yml_dir / \"industry_daily.yaml\"),\n",
    "    \"agriculture\": from_yaml(yml_dir / \"no_factor.yaml\"),\n",
    "    \"livestock\": from_yaml(yml_dir / \"no_factor.yaml\"),\n",
    "    \"waste\": from_yaml(yml_dir / \"no_factor.yaml\"),\n",
    "}\n",
    "\n",
    "for inv in grouppeds:\n",
    "    for category, profile in profiles.items():\n",
    "        inv.set_profile(profile, category=category)"
   ]
  },
  {
   "cell_type": "code",
   "execution_count": null,
   "metadata": {},
   "outputs": [],
   "source": [
    "from emiproc.exports.fluxy import export_fluxy\n",
    "\n",
    "# Export the inventory to fluxy format\n",
    "export_fluxy(grouppeds, local_dir / \"fluxy\" / \"edgar_emiproc\", transport_model=\"EmiprocEdgar\")"
   ]
  },
  {
   "cell_type": "markdown",
   "metadata": {},
   "source": [
    "## Using fluxy to plot the inventory\n",
    "\n",
    "First we need to read the data, this is done wit the `read_model_output` function."
   ]
  },
  {
   "cell_type": "code",
   "execution_count": null,
   "metadata": {},
   "outputs": [],
   "source": [
    "from fluxy.io import  read_model_output\n",
    "\n",
    "dss_fluxy = read_model_output(\n",
    "    \n",
    "    data_dir=local_dir / \"fluxy\" / \"edgar_emiproc\",\n",
    "    file_type='flux', # Fluxy can plot also concentrations, but in emiproc we only use fluxes\n",
    "    species=\"CH4\",\n",
    "    models=[\"EmiprocEdgar\"],\n",
    ")\n",
    "dss_fluxy"
   ]
  },
  {
   "cell_type": "code",
   "execution_count": null,
   "metadata": {},
   "outputs": [],
   "source": [
    "from fluxy.plots.flux_map import plot_flux_map\n",
    "\n",
    "\n",
    "# This function is a simple flux map\n",
    "fig = plot_flux_map(\n",
    "    dss_fluxy,\n",
    "    species='CO2',\n",
    "    # Set this to only see the inventory\n",
    "    # In fluxy they run inversion results, in our case we only have the prior inventory\n",
    "    only = \"prior\",\n",
    ")"
   ]
  },
  {
   "cell_type": "code",
   "execution_count": null,
   "metadata": {},
   "outputs": [],
   "source": [
    "from fluxy.plots.flux_map import plot_flux_map_over_time\n",
    "\n",
    "\n",
    "# This function plots the map over time (years)\n",
    "fig = plot_flux_map_over_time(\n",
    "    dss_fluxy,\n",
    "    var=\"flux_total_prior\",\n",
    "    species=\"CO2\",\n",
    ")"
   ]
  },
  {
   "cell_type": "code",
   "execution_count": null,
   "metadata": {},
   "outputs": [],
   "source": [
    "from fluxy.plots.flux_timeseries import  plot_country_flux\n",
    "\n",
    "# This function plots timeseries of the total fluxes for each country\n",
    "plot_country_flux(\n",
    "    dss_fluxy,\n",
    "    species='CO2', \n",
    "    # Set to false, otherwise it will try to look for files you don't have\n",
    "    plot_inventory=False, \n",
    ")"
   ]
  }
 ],
 "metadata": {
  "kernelspec": {
   "display_name": "Python 3",
   "language": "python",
   "name": "python3"
  },
  "language_info": {
   "codemirror_mode": {
    "name": "ipython",
    "version": 3
   },
   "file_extension": ".py",
   "mimetype": "text/x-python",
   "name": "python",
   "nbconvert_exporter": "python",
   "pygments_lexer": "ipython3",
   "version": "undefined.undefined.undefined"
  }
 },
 "nbformat": 4,
 "nbformat_minor": 2
}
