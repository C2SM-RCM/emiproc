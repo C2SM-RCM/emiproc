{
 "cells": [
  {
   "cell_type": "markdown",
   "metadata": {},
   "source": [
    "# Small script to compare years of inventories and extrapolate the emissions\n",
    "\n",
    "\n",
    "It reads from netcdf files"
   ]
  },
  {
   "cell_type": "code",
   "execution_count": null,
   "metadata": {},
   "outputs": [],
   "source": [
    "from math import floor\n",
    "from pathlib import Path\n",
    "import copy\n",
    "\n",
    "import numpy as np\n",
    "import geopandas as gpd\n",
    "import pandas as pd\n",
    "import matplotlib.pyplot as plt\n",
    "import xarray as xr"
   ]
  },
  {
   "cell_type": "code",
   "execution_count": null,
   "metadata": {},
   "outputs": [],
   "source": [
    "path = Path(r\"C:\\Users\\coli\\Documents\\ZH-CH-emission\\output_files\\mapluft_rasters\") \n",
    "file_name = \"zurich_inside_swiss_Fsplit_100x100_mapLuft_{year}_v2024_v1.8.nc\"\n",
    "inventories = {year: path / file_name.format(year=year) for year in (2015, 2020, 2022)}\n",
    "\n",
    "compounds = [\n",
    "    'CO2_bio',\n",
    "    'CO2_fos',\n",
    "    'CO',\n",
    "    'BC',\n",
    "    'SO2',\n",
    "    'NOx',\n",
    "    'N2O',\n",
    "    'CH4',\n",
    "    ]\n",
    "inventories"
   ]
  },
  {
   "cell_type": "code",
   "execution_count": null,
   "metadata": {},
   "outputs": [],
   "source": [
    "dss = {year: xr.open_dataset(inventory) for year, inventory in inventories.items()}"
   ]
  },
  {
   "cell_type": "code",
   "execution_count": null,
   "metadata": {},
   "outputs": [],
   "source": [
    "dss[2015].source_category.values"
   ]
  },
  {
   "cell_type": "code",
   "execution_count": null,
   "metadata": {},
   "outputs": [],
   "source": [
    "# print the missing cats for each inventories in each year\n",
    "# This makes sure we don't have discrepenacies between the inventories\n",
    "all_cats = np.unique(np.concatenate([inv.source_category.values for inv in dss.values()]))\n",
    "for year, inv in dss.items():\n",
    "    print(year)\n",
    "    print([cat for cat in all_cats if cat not in inv.source_category ])"
   ]
  },
  {
   "cell_type": "code",
   "execution_count": null,
   "metadata": {},
   "outputs": [],
   "source": [
    "ds = dss[2015]\n",
    "ds[\"emi_CO2_fos_total\"]"
   ]
  },
  {
   "cell_type": "code",
   "execution_count": null,
   "metadata": {},
   "outputs": [],
   "source": [
    "ds.source_category.values"
   ]
  },
  {
   "cell_type": "code",
   "execution_count": null,
   "metadata": {},
   "outputs": [],
   "source": [
    "# Get the total emissions \n",
    "dfs_total = {}\n",
    "for year, ds in dss.items():\n",
    "    total_emissions = {}\n",
    "    categories = ds.source_category.values\n",
    "    for compound in compounds:\n",
    "        total_emissions[compound] = ds[f\"emi_{compound}_total\"].sel(source_category=categories)\n",
    "    df_tot = pd.DataFrame(total_emissions, index=categories)\n",
    "\n",
    "    df_tot *= 1e-3 # kg to ton\n",
    "    df_tot[['CO2_bio', \"CO2_fos\"]] *= 1e-3 # ton to kton\n",
    "    df_tot[compounds].round(1)\n",
    "\n",
    "    df_tot.loc[\"__total__\"] = df_tot.loc[ds.source_category.values].sum()\n",
    "    df_tot.loc[\"GNFR_F\"] = df_tot.loc[['GNFR_F-cars', 'GNFR_F-two_wheels', 'GNFR_F-heavy_duty',\n",
    "        'GNFR_F-light_duty']].sum()\n",
    "\n",
    "    dfs_total[year] = df_tot"
   ]
  },
  {
   "cell_type": "code",
   "execution_count": null,
   "metadata": {},
   "outputs": [],
   "source": [
    "plt.style.use('default')\n",
    "\n",
    "substances = compounds\n",
    "fig, axes = plt.subplots(nrows=len(substances), figsize=(8,12), gridspec_kw={'hspace': 0.0}, sharex=True)\n",
    "categories = [\n",
    "        #\"c1301_Personenwagen_Emissionen_Kanton\",\n",
    "        #\"c1302_Lastwagen_Emissionen_Kanton\",\n",
    "        #\"c1303_Motorraeder_Emissionen_Kanton\",\n",
    "        #\"c1304_Linienbusse_Emissionen_Kanton\",\n",
    "        #\"c1305_Trolleybusse_Emissionen_Kanton\",\n",
    "        #\"c1306_StartStopTankatmung_Emissionen_Kanton\",\n",
    "        #\"c1307_Lieferwagen_Emissionen_Kanton\",\n",
    "        #\"c1308_Reisebusse_Emissionen_Kanton\",\n",
    "]\n",
    "categories = [\n",
    "    \"GNFR_A\",\n",
    "    \"GNFR_B\",\n",
    "    \"GNFR_C\",\n",
    "    \"GNFR_F\",\n",
    "    #\"GNFR_G\",\n",
    "    \"GNFR_I\",\n",
    "    \"GNFR_J\",\n",
    "    \"GNFR_K\",\n",
    "    #\"GNFR_L\",\n",
    "    \"GNFR_O\",\n",
    "    \"GNFR_R\",\n",
    "    \"__total__\",\n",
    "]\n",
    "offsets = {\n",
    "    2015: -0.2,\n",
    "    2020: 0,\n",
    "    2022: 0.2,\n",
    "\n",
    "}\n",
    "# Use some fancy colors\n",
    "colors = {\n",
    "    2015: '#1b9e77',\n",
    "    2020: '#d95f02',\n",
    "    2022: '#7570b3',\n",
    "}\n",
    "\n",
    "for i, substance in enumerate(substances):\n",
    "    ax = axes[i]\n",
    "    for year in [2015, 2020, 2022]:\n",
    "        df_tot = dfs_total[year]\n",
    "\n",
    "        if substance not in df_tot:\n",
    "            continue\n",
    "        # Add missing categories to the df as 0\n",
    "        for cat in categories:\n",
    "            if cat not in df_tot.index:\n",
    "                df_tot.loc[cat] = 0\n",
    "        # Plot a bar for each year\n",
    "        x_axis = np.arange(len(categories)) + offsets[year]\n",
    "        ax.bar(\n",
    "            x_axis,\n",
    "            df_tot[substance][categories],\n",
    "            width=0.2,\n",
    "            label=year,\n",
    "            color=colors[year],\n",
    "        )\n",
    "\n",
    "    # No ticks \n",
    "    ax.set_xticks([])\n",
    "\n",
    "    # Units \n",
    "    unit = 'kt' if substance == 'CO2' else 't'\n",
    "    ax.set_ylabel(f\"{substance} [{unit}]\")\n",
    "\n",
    "\n",
    "    \n",
    "# just align the last column of axes:\n",
    "fig.align_ylabels(axes)\n",
    "\n",
    "ax.set_xticks(np.arange(len(categories)))\n",
    "ax.set_xticklabels(categories)\n",
    "# Rotate \n",
    "ax.set_xticklabels(categories, rotation=45)\n",
    "ax.legend()\n",
    "axes[0].set_title(\"Emissions by year, category, compound for zurich and surroundings (mapluft + swiss inventory)\")\n",
    "\n",
    "fig.savefig(path / \"emissions_by_year_category_compound.png\", dpi=300, bbox_inches='tight')\n",
    "fig.tight_layout()\n",
    "plt.show()"
   ]
  },
  {
   "cell_type": "code",
   "execution_count": null,
   "metadata": {},
   "outputs": [],
   "source": []
  }
 ],
 "metadata": {
  "kernelspec": {
   "display_name": "Python 3",
   "language": "python",
   "name": "python3"
  },
  "language_info": {
   "codemirror_mode": {
    "name": "ipython",
    "version": 3
   },
   "file_extension": ".py",
   "mimetype": "text/x-python",
   "name": "python",
   "nbconvert_exporter": "python",
   "pygments_lexer": "ipython3",
   "version": "3.11.2"
  },
  "orig_nbformat": 4
 },
 "nbformat": 4,
 "nbformat_minor": 2
}
