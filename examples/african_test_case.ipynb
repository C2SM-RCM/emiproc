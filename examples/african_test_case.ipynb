{
 "cells": [
  {
   "cell_type": "code",
   "execution_count": null,
   "metadata": {},
   "outputs": [],
   "source": [
    "%load_ext autoreload \n",
    "%autoreload 2"
   ]
  },
  {
   "cell_type": "code",
   "execution_count": null,
   "metadata": {},
   "outputs": [],
   "source": [
    "from emiproc.tests_utils.african_case import (\n",
    "    african_inv_emissions_only_land,\n",
    "    african_inv,\n",
    ")\n",
    "from emiproc import TESTS_DIR\n",
    "from emiproc.speciation import (\n",
    "    read_speciation_table,\n",
    "    speciate,\n",
    "    speciate_inventory,\n",
    "    speciate_nox,\n",
    "    merge_substances,\n",
    ")\n",
    "from emiproc.plots import explore_inventory"
   ]
  },
  {
   "cell_type": "code",
   "execution_count": null,
   "metadata": {},
   "outputs": [],
   "source": [
    "african_inv_emissions_only_land.total_emissions"
   ]
  },
  {
   "cell_type": "code",
   "execution_count": null,
   "metadata": {},
   "outputs": [],
   "source": [
    "explore_inventory(african_inv_emissions_only_land)"
   ]
  },
  {
   "cell_type": "code",
   "execution_count": null,
   "metadata": {},
   "outputs": [],
   "source": [
    "african_inv_emissions_only_land.gdf"
   ]
  },
  {
   "cell_type": "code",
   "execution_count": null,
   "metadata": {},
   "outputs": [],
   "source": [
    "da_africa = read_speciation_table(\n",
    "    TESTS_DIR / \"speciation\" / \"table_africa_testcase.csv\"\n",
    ")\n",
    "\n",
    "speciated_inv = speciate(\n",
    "    african_inv_emissions_only_land, substance=\"CO2\", speciation_ratios=da_africa\n",
    ")\n"
   ]
  },
  {
   "cell_type": "code",
   "execution_count": null,
   "metadata": {},
   "outputs": [],
   "source": [
    "speciated_inv.total_emissions"
   ]
  }
 ],
 "metadata": {
  "kernelspec": {
   "display_name": "Python 3",
   "language": "python",
   "name": "python3"
  },
  "language_info": {
   "codemirror_mode": {
    "name": "ipython",
    "version": 3
   },
   "file_extension": ".py",
   "mimetype": "text/x-python",
   "name": "python",
   "nbconvert_exporter": "python",
   "pygments_lexer": "ipython3",
   "version": "3.12.2"
  }
 },
 "nbformat": 4,
 "nbformat_minor": 2
}
