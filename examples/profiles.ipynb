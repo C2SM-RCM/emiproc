{
 "cells": [
  {
   "attachments": {},
   "cell_type": "markdown",
   "metadata": {},
   "source": [
    "# Vertical and Temporal Profiles in emiproc\n",
    "\n",
    "This tutorial shows basic handling of vertical and temporal profiles in emiproc.\n",
    "\n",
    "- loading profiles from a file\n",
    "- plotting profiles\n",
    "- saving profiles to a file"
   ]
  },
  {
   "cell_type": "code",
   "execution_count": null,
   "metadata": {},
   "outputs": [],
   "source": [
    "%load_ext autoreload\n",
    "%autoreload 2"
   ]
  },
  {
   "cell_type": "code",
   "execution_count": null,
   "metadata": {},
   "outputs": [],
   "source": [
    "\n",
    "import numpy as np\n",
    "\n",
    "import matplotlib.pyplot as plt\n",
    "\n",
    "import emiproc\n",
    "from emiproc.profiles.temporal_profiles import (\n",
    "    TemporalProfile,\n",
    "    DailyProfile,\n",
    "    WeeklyProfile,\n",
    "    MounthsProfile,\n",
    "    create_scaling_factors_time_serie,\n",
    "    from_csv,\n",
    "    from_yaml,\n",
    "    to_yaml,\n",
    "    read_temporal_profiles,\n",
    ")\n",
    "from emiproc.profiles import vertical_profiles \n",
    "from emiproc.tests_utils.temporal_profiles import copernicus_profiles_dir"
   ]
  },
  {
   "attachments": {},
   "cell_type": "markdown",
   "metadata": {},
   "source": [
    "## Vertical profiles"
   ]
  },
  {
   "cell_type": "code",
   "execution_count": null,
   "metadata": {},
   "outputs": [],
   "source": [
    "# Load from csv\n",
    "\n",
    "profiles, cat_sub = vertical_profiles.from_csv(\n",
    "    copernicus_profiles_dir / \"vertical.csv\"\n",
    ")   "
   ]
  },
  {
   "cell_type": "code",
   "execution_count": null,
   "metadata": {},
   "outputs": [],
   "source": [
    "# Plot the profiles\n",
    "fig, ax = plt.subplots(1, 1, figsize=(10, 5))\n",
    "for name, profile in zip(cat_sub, profiles.ratios):\n",
    "    ax.plot(profile, label=name)\n",
    "ax.legend()"
   ]
  },
  {
   "attachments": {},
   "cell_type": "markdown",
   "metadata": {},
   "source": [
    "## Time profiles"
   ]
  },
  {
   "cell_type": "code",
   "execution_count": null,
   "metadata": {},
   "outputs": [],
   "source": [
    "read_temporal_profiles(copernicus_profiles_dir, profile_csv_kwargs={\"sep\": \",\"})"
   ]
  },
  {
   "cell_type": "code",
   "execution_count": null,
   "metadata": {},
   "outputs": [],
   "source": [
    "# Profiles from a csv profiles file \n",
    "\n",
    "\n",
    "profiles = ['hour_in_day', 'day_in_week', 'month_in_year']\n",
    "profiles = {p: from_csv(copernicus_profiles_dir / f\"timeprofiles-{p}.csv\") for p in profiles}\n",
    "\n",
    "# Plot the profiles on 3 subplots and put the legend on a 4rth \n",
    "fig, axs = plt.subplots(2, 2, figsize=(10, 10))\n",
    "axs = axs.flatten()\n",
    "for ax, (name, profile) in zip(axs, profiles.items()):\n",
    "    for cat_name, cat_profile in profile.items():\n",
    "        ax.plot(cat_profile.ratios, label=cat_name)\n",
    "    ax.set_title(name)\n",
    "\n",
    "for cat_name, cat_profile in profile.items():\n",
    "    axs[-1].plot([], label=cat_name)\n",
    "axs[-1].legend()"
   ]
  },
  {
   "cell_type": "code",
   "execution_count": null,
   "metadata": {},
   "outputs": [],
   "source": [
    "# Profiles from a yaml profiles file\n",
    "yaml_dir = emiproc.FILES_DIR / \"profiles\" / \"yamls\"\n",
    "yaml_profiles = {}\n",
    "for yml_file in yaml_dir.glob(\"*.yaml\"):\n",
    "    yaml_profiles[yml_file.stem] = from_yaml(yml_file)\n",
    "\n",
    "# Now with the yaml, each catoegory can have different types of profiles\n",
    "yaml_profiles['heat'], yaml_profiles['heavy']\n"
   ]
  },
  {
   "cell_type": "code",
   "execution_count": null,
   "metadata": {},
   "outputs": [],
   "source": [
    "# We can create an hourly time series of each categories to plot\n",
    "tss = {}\n",
    "for categorie in yaml_profiles.keys():\n",
    "    tss[categorie] = create_scaling_factors_time_serie(\n",
    "        start_time=\"2020-01-01\",\n",
    "        end_time=\"2022-04-28\",\n",
    "        profiles=yaml_profiles[categorie],\n",
    "    )\n",
    "fig, ax = plt.subplots(1, 1, figsize=(10, 5))\n",
    "# Create better colors \n",
    "colors = iter(plt.cm.tab10(np.linspace(0, 1, len(tss))))\n",
    "for name, ts in tss.items():\n",
    "    ax.plot(ts, label=name, color=next(colors))\n",
    "ax.legend()"
   ]
  },
  {
   "cell_type": "code",
   "execution_count": null,
   "metadata": {},
   "outputs": [],
   "source": [
    "# We can also save time profiles to yaml\n",
    "for categorie in yaml_profiles.keys():\n",
    "    yaml_file = emiproc.FILES_DIR / 'outputs' / f'test_{categorie}.yaml'\n",
    "    to_yaml(yaml_profiles[categorie], yaml_file)\n"
   ]
  },
  {
   "cell_type": "code",
   "execution_count": null,
   "metadata": {},
   "outputs": [],
   "source": [
    "# Profiles country dependent from an other data source:\n",
    "\n",
    "\n",
    "p, i = read_temporal_profiles(\n",
    "    # Change the path properly\n",
    "    \"emission-time-profiles/time_profiles/emiproc\",\n",
    "    profile_csv_kwargs={\"sep\": \",\"},\n",
    "    rtol=1e-2,\n",
    ")\n",
    "i"
   ]
  },
  {
   "attachments": {},
   "cell_type": "markdown",
   "metadata": {},
   "source": [
    "### Profiles example in Invenotries (TNO example)"
   ]
  },
  {
   "cell_type": "code",
   "execution_count": null,
   "metadata": {},
   "outputs": [],
   "source": [
    "from pathlib import Path\n",
    "import xarray as xr\n",
    "\n",
    "from emiproc.inventories.tno import TNO_Inventory\n",
    "\n",
    "tno_nc_file = Path(r\"C:\\Users\\coli\\Documents\\emiproc\\files\\TNO_6x6_GHGco_v4_0\\TNO_GHGco_v4_0_year2018.nc\")\n",
    "\n",
    "\n",
    "inv_tno = TNO_Inventory(tno_nc_file)"
   ]
  },
  {
   "cell_type": "code",
   "execution_count": null,
   "metadata": {},
   "outputs": [],
   "source": [
    "inv_tno.t_profiles_groups[-1]"
   ]
  },
  {
   "cell_type": "code",
   "execution_count": null,
   "metadata": {},
   "outputs": [],
   "source": [
    "# Add a profile to a category of the inventory\n",
    "inv_tno.set_profile(yaml_profiles['heat'], category='J')"
   ]
  },
  {
   "attachments": {},
   "cell_type": "markdown",
   "metadata": {},
   "source": [
    "### ICON-OEM Profiles\n",
    "\n",
    "the following example shows how to load profiles created for ICON - OEM"
   ]
  },
  {
   "cell_type": "code",
   "execution_count": null,
   "metadata": {},
   "outputs": [],
   "source": [
    "from pathlib import Path\n",
    "import xarray as xr\n",
    "\n",
    "nc_file = Path(r\"C:\\Users\\coli\\Documents\\ZH-CH-emission\\icon_europe_DOM01_with_tno_emissions\\hourofyear.nc\")\n",
    "\n",
    "ds = xr.open_dataset(nc_file)\n",
    "ds\n"
   ]
  },
  {
   "cell_type": "code",
   "execution_count": null,
   "metadata": {},
   "outputs": [],
   "source": [
    "%matplotlib widget\n",
    "plt.figure()\n",
    "cat = \"GNFR_A-CO2\"\n",
    "country = 2\n",
    "ds[cat].sel(country=country).plot()\n",
    "plt.show()"
   ]
  },
  {
   "cell_type": "code",
   "execution_count": null,
   "metadata": {},
   "outputs": [],
   "source": []
  }
 ],
 "metadata": {
  "kernelspec": {
   "display_name": "Python 3",
   "language": "python",
   "name": "python3"
  },
  "language_info": {
   "codemirror_mode": {
    "name": "ipython",
    "version": 3
   },
   "file_extension": ".py",
   "mimetype": "text/x-python",
   "name": "python",
   "nbconvert_exporter": "python",
   "pygments_lexer": "ipython3",
   "version": "3.10.10"
  },
  "orig_nbformat": 4
 },
 "nbformat": 4,
 "nbformat_minor": 2
}
