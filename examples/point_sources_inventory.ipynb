{
 "cells": [
  {
   "cell_type": "markdown",
   "metadata": {},
   "source": [
    "# Simple inventory object from point sources\n",
    "\n",
    "this example will show how to create a small Inventory object from a list of point sources. \n",
    "\n"
   ]
  },
  {
   "cell_type": "code",
   "execution_count": null,
   "metadata": {},
   "outputs": [],
   "source": [
    "from emiproc.inventories import Inventory\n",
    "import geopandas as gpd\n",
    "import pandas as pd\n",
    "\n",
    "from emiproc.utilities import SEC_PER_YR"
   ]
  },
  {
   "cell_type": "markdown",
   "metadata": {},
   "source": [
    "Imagine you have the following data: a list of point sources with the emission rate of each source. You want to create an Inventory object from this data."
   ]
  },
  {
   "cell_type": "code",
   "execution_count": null,
   "metadata": {},
   "outputs": [],
   "source": [
    "point_sources = pd.DataFrame(\n",
    "    {\n",
    "        \"name\": [\"source1\", \"source2\"],\n",
    "        \"lon\": [8.4, 9.2],\n",
    "        \"lat\": [47.3, 47.4],\n",
    "        \"emissions_CO2\": [1, 2],  # in kg/second\n",
    "        \"emissions_NOX\": [0.1, 0.5],  # in kg/second\n",
    "    }\n",
    ")\n",
    "point_sources"
   ]
  },
  {
   "cell_type": "code",
   "execution_count": null,
   "metadata": {},
   "outputs": [],
   "source": [
    "# Create the inventory opject\n",
    "inv = Inventory.from_gdf(\n",
    "    gdfs={\n",
    "        # This is the name of the category you want to assign to the sources\n",
    "        \"point_sources\": gpd.GeoDataFrame(\n",
    "            {\n",
    "                # emiproc expects units in kg/year\n",
    "                \"CO2\": point_sources[\"emissions_CO2\"]\n",
    "                * SEC_PER_YR,\n",
    "                \"NOX\": point_sources[\"emissions_NOX\"] * SEC_PER_YR,\n",
    "            },\n",
    "            # Creates point geometries from the lat/lon columns\n",
    "            geometry=gpd.points_from_xy(\n",
    "                point_sources[\"lon\"], point_sources[\"lat\"], crs=\"EPSG:4326\"\n",
    "            ),\n",
    "        )\n",
    "    }\n",
    ")\n",
    "inv"
   ]
  },
  {
   "cell_type": "markdown",
   "metadata": {},
   "source": [
    "Now that the inventory object is ready, we can do some things with it"
   ]
  },
  {
   "cell_type": "code",
   "execution_count": null,
   "metadata": {},
   "outputs": [],
   "source": [
    "# View the total emissions (is in kg/year)\n",
    "inv.total_emissions"
   ]
  },
  {
   "cell_type": "code",
   "execution_count": null,
   "metadata": {},
   "outputs": [],
   "source": [
    "# This is how the data is stored internally in emiproc\n",
    "inv.gdfs[\"point_sources\"]"
   ]
  },
  {
   "cell_type": "code",
   "execution_count": null,
   "metadata": {},
   "outputs": [],
   "source": [
    "# You can see where they is on the map \n",
    "inv.gdfs[\"point_sources\"].explore()"
   ]
  }
 ],
 "metadata": {
  "kernelspec": {
   "display_name": "Python 3",
   "language": "python",
   "name": "python3"
  },
  "language_info": {
   "codemirror_mode": {
    "name": "ipython",
    "version": 3
   },
   "file_extension": ".py",
   "mimetype": "text/x-python",
   "name": "python",
   "nbconvert_exporter": "python",
   "pygments_lexer": "ipython3",
   "version": "3.12.2"
  }
 },
 "nbformat": 4,
 "nbformat_minor": 2
}
