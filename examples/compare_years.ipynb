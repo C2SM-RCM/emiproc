{
 "cells": [
  {
   "cell_type": "markdown",
   "metadata": {},
   "source": [
    "# Small script to compare years of inventories and extrapolate the emissions\n",
    "\n",
    "\n",
    "In this case we show how we use mapluft 2015 and 2020\n",
    "\n",
    "\n",
    "Differences in categories between 2015 and 2020:\n",
    "\n",
    "in 2022: \n",
    "- added ['c1307_Lieferwagen_Emissionen_Kanton', 'c1308_Reisebusse_Emissionen_Kanton']\n",
    "- removed ['c3415_Kompostierung_Emissionen_Kanton']"
   ]
  },
  {
   "cell_type": "code",
   "execution_count": null,
   "metadata": {},
   "outputs": [],
   "source": [
    "from math import floor\n",
    "from pathlib import Path\n",
    "import copy\n",
    "\n",
    "from emiproc.inventories.utils import group_categories, validate_group\n",
    "from emiproc.grids import SwissGrid, LV95, WGS84\n",
    "from emiproc.inventories.swiss import SwissRasters\n",
    "from emiproc.inventories.zurich import MapLuftZurich\n",
    "from emiproc.inventories.zurich.gnrf_groups import ZH_2_GNFR\n",
    "from emiproc.regrid import remap_inventory, weights_remap, get_weights_mapping\n",
    "from emiproc.utilities import SEC_PER_YR\n",
    "import numpy as np\n",
    "import geopandas as gpd\n",
    "import pandas as pd\n",
    "from shapely.geometry import Polygon, Point\n",
    "from emiproc.inventories.utils import add_inventories, scale_inventory\n",
    "from emiproc.inventories.utils import get_total_emissions\n",
    "from emiproc.speciation import speciate_inventory\n",
    "from emiproc.regrid import remap_inventory\n",
    "from emiproc.inventories.utils import crop_with_shape\n",
    "import matplotlib.pyplot as plt\n",
    "import xarray as xr"
   ]
  },
  {
   "cell_type": "code",
   "execution_count": null,
   "metadata": {},
   "outputs": [],
   "source": [
    "maplufts = {\n",
    "    2015: Path(r\"C:\\Users\\coli\\Documents\\MapluftAnalysis\\mapLuft2015_v2020\\mapLuft_2015_version_empa.gdb\"),\n",
    "    2020: Path(r\"C:\\Users\\coli\\Documents\\MapluftAnalysis\\mapLuft2020_v2021\\mapLuft_2020_v2021.gdb\")\n",
    "}"
   ]
  },
  {
   "cell_type": "code",
   "execution_count": null,
   "metadata": {},
   "outputs": [],
   "source": [
    "invs = {\n",
    "    2015: MapLuftZurich(maplufts[2015], remove_josefstrasse_khkw = False,),\n",
    "    2020: MapLuftZurich(maplufts[2020]),\n",
    "}"
   ]
  },
  {
   "cell_type": "code",
   "execution_count": null,
   "metadata": {},
   "outputs": [],
   "source": [
    "# print the missing cats for each inventories in each year\n",
    "all_cats = sum([inv.categories for inv in invs.values()], [])\n",
    "for year, inv in invs.items():\n",
    "    print(year)\n",
    "    print([cat for cat in all_cats if cat not in inv.categories ])"
   ]
  },
  {
   "cell_type": "code",
   "execution_count": null,
   "metadata": {},
   "outputs": [],
   "source": [
    "# Deep copy the dictionary\n",
    "ZH_2_GNFR_2015 = copy.deepcopy(ZH_2_GNFR)\n",
    "ZH_2_GNFR_2015[\"GNFR_F\"].remove(\"c1307_Lieferwagen_Emissionen_Kanton\")\n",
    "ZH_2_GNFR_2015[\"GNFR_F\"].remove(\"c1308_Reisebusse_Emissionen_Kanton\")\n",
    "ZH_2_GNFR_2015[\"GNFR_J\"].append(\"c3415_Kompostierung_Emissionen_Kanton\")\n",
    "\n",
    "cats_groups = {\n",
    "    2015: ZH_2_GNFR_2015,\n",
    "    2020: ZH_2_GNFR,\n",
    "}\n",
    "\n",
    "groupped_invs = {\n",
    "    year: group_categories(inv, cats_groups[year]) for year, inv in invs.items()\n",
    "}"
   ]
  },
  {
   "cell_type": "code",
   "execution_count": null,
   "metadata": {},
   "outputs": [],
   "source": [
    "total_emissions_gnrf = {year: get_total_emissions(inv)['CO2'] for year, inv in groupped_invs.items()}\n",
    "total_emissions = {year: get_total_emissions(inv)['CO2'] for year, inv in invs.items()}"
   ]
  },
  {
   "cell_type": "code",
   "execution_count": null,
   "metadata": {},
   "outputs": [],
   "source": [
    "total_emissions_2015 = total_emissions[2015]\n",
    "total_emissions_2020 = total_emissions[2020]\n",
    "for cat in all_cats:\n",
    "    if cat not in total_emissions_2015 or cat not in total_emissions_2020:\n",
    "        continue\n",
    "    # get the relative difference between 2015 and 2020\n",
    "    diff = (total_emissions_2020[cat] - total_emissions_2015[cat]) / total_emissions_2020[cat]\n",
    "    print(f\"{cat}: {diff * 100:.2f}%\")\n",
    "        \n"
   ]
  },
  {
   "cell_type": "code",
   "execution_count": null,
   "metadata": {},
   "outputs": [],
   "source": [
    "invs[2015].gdfs['c2301_KHKWKehricht_Emissionen_Kanton']"
   ]
  },
  {
   "cell_type": "markdown",
   "metadata": {},
   "source": [
    "### Extrapolate emissions to the future"
   ]
  },
  {
   "cell_type": "code",
   "execution_count": null,
   "metadata": {},
   "outputs": [],
   "source": [
    "total_emissions\n",
    "year_future = 2022\n",
    "df = pd.DataFrame(total_emissions).T / 1000\n",
    "# Correct the value of 2020 because of COVID, 4% less is in the inventory\n",
    "covid_correction_civil_vehicules =  1.0462\n",
    "covid_correction_heavy = 1.0154\n",
    "df.loc[2020, [\n",
    "    'c1301_Personenwagen_Emissionen_Kanton',\n",
    "    'c1303_Motorraeder_Emissionen_Kanton',\n",
    "    'c1308_Reisebusse_Emissionen_Kanton', \n",
    "    'c1306_StartStopTankatmung_Emissionen_Kanton']] *= covid_correction_civil_vehicules\n",
    "df.loc[2020, 'c1302_Lastwagen_Emissionen_Kanton'] *= covid_correction_heavy\n",
    "# Linearly interpolate to get 2022\n",
    "df.loc[year_future] = df.loc[2020] + (df.loc[2020] - df.loc[2015]) / 5 * (year_future - 2020)\n",
    "# If nan assumes same as 2020\n",
    "mask_nan = df.loc[year_future].isna()\n",
    "df.loc[year_future, mask_nan] = df.loc[2020, mask_nan]\n",
    "\n",
    "# Clip to 0 \n",
    "df[df < 0] = 0\n",
    "\n",
    "# Calculate the scaling factors for how to get inventory of 2022 based on 2020 \n",
    "\n",
    "scaling_factors = df.loc[2022] / df.loc[2020]\n",
    "\n",
    "\n",
    "\n",
    "df.plot(figsize=(10, 5), title='Total emissions in kt/year')"
   ]
  },
  {
   "cell_type": "code",
   "execution_count": null,
   "metadata": {},
   "outputs": [],
   "source": [
    "# Scale the 2020 inventories with the calculated scaling factors to have the 2022\n",
    "inv_2022 = scale_inventory(invs[2020], scaling_dict={'CO2': scaling_factors})\n",
    "inv_2022_GNRF = group_categories(inv_2022, ZH_2_GNFR)\n",
    "\n",
    "total_emissions_gnrf[2022] = get_total_emissions(inv_2022_GNRF)['CO2']"
   ]
  },
  {
   "cell_type": "code",
   "execution_count": null,
   "metadata": {},
   "outputs": [],
   "source": [
    "# Show the differences in total emissions from the different yeas\n",
    "df = pd.DataFrame(total_emissions_gnrf) / 1000\n",
    "# Iterate ovr the rows of the col and format the numbers as normal floats\n",
    "year = 2020\n",
    "for line in df[year].iteritems():\n",
    "    print(line[0], '{:.0f}'.format(line[1]), '{:.1f}%'.format(line[1] / df.loc['__total__',year] * 100), )"
   ]
  },
  {
   "cell_type": "code",
   "execution_count": null,
   "metadata": {},
   "outputs": [],
   "source": [
    "df.plot.bar()"
   ]
  },
  {
   "cell_type": "code",
   "execution_count": null,
   "metadata": {},
   "outputs": [],
   "source": []
  }
 ],
 "metadata": {
  "kernelspec": {
   "display_name": "Python 3",
   "language": "python",
   "name": "python3"
  },
  "language_info": {
   "codemirror_mode": {
    "name": "ipython",
    "version": 3
   },
   "file_extension": ".py",
   "mimetype": "text/x-python",
   "name": "python",
   "nbconvert_exporter": "python",
   "pygments_lexer": "ipython3",
   "version": "3.10.10"
  },
  "orig_nbformat": 4
 },
 "nbformat": 4,
 "nbformat_minor": 2
}
