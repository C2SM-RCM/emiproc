{
 "cells": [
  {
   "cell_type": "markdown",
   "metadata": {},
   "source": [
    "# Vegetation emissions from raster map\n",
    "\n",
    "Here we produce emissions using data coming from a raster\n",
    "\n",
    "I originally tried to produce the data on a 1m grid, but GRAL ran out of memory when doing that. So I have reduced the resolution to 5m."
   ]
  },
  {
   "cell_type": "code",
   "execution_count": null,
   "metadata": {},
   "outputs": [],
   "source": [
    "%load_ext autoreload\n",
    "%autoreload 2"
   ]
  },
  {
   "cell_type": "code",
   "execution_count": null,
   "metadata": {},
   "outputs": [],
   "source": [
    "from pathlib import Path\n",
    "\n",
    "\n",
    "import rioxarray as rxr\n",
    "import xarray as xr\n",
    "import numpy as np\n",
    "import pandas as pd\n",
    "import geopandas as gpd\n",
    "\n",
    "from shapely.geometry import Point, Polygon\n",
    "\n",
    "from pygg.grids import GralGrid\n",
    "from emiproc.exports.gral import export_to_gral\n",
    "\n",
    "from emiproc.inventories import EmissionInfo"
   ]
  },
  {
   "cell_type": "code",
   "execution_count": null,
   "metadata": {},
   "outputs": [],
   "source": [
    "crs = \"LV03\"\n",
    "\n",
    "landuse_raster=Path(\"/scratch/snx3000/lconstan/data/zurich_landuse_1m.tif\")\n",
    "gral_dir = Path(\"/store/empa/em05/isuter/projects/Zurich_CO2_clean/\")\n",
    "tree_heights_file = Path(\"/scratch/snx3000/lconstan/data/Vegetationshoehenmodell_2019_1m_2056_zurich.tif\")\n",
    "output_dir = Path(\"/scratch/snx3000/lconstan/data/vegetation_emissons_10m_groundandheight_landusemap\")\n",
    "output_dir.mkdir(exist_ok=True)\n",
    "Land_cover_to_VPRM_class={\n",
    "    1: 'Evergreen',\n",
    "    2: 'Evergreen',\n",
    "    3: 'Deciduous',\n",
    "    4: 'Deciduous',\n",
    "    5: 'Mixed',\n",
    "    \n",
    "    10: 'Deciduous',\n",
    "    20: 'Shrubland',\n",
    "    30: 'Grassland',\n",
    "    40: 'Cropland',\n",
    "    50: 'Others',\n",
    "    60: 'Savanna', \n",
    "    70: 'Others',\n",
    "    80: 'Others',\n",
    "    90: 'Others',\n",
    "}\n",
    "sg_of_cat = {\n",
    "    'Evergreen': 50 ,\n",
    "    'Deciduous': 51 ,\n",
    "    'Mixed': 52 ,\n",
    "    'Grassland': 53 ,\n",
    "    'Cropland': 54 ,\n",
    "    'Evergreen_ground': 55 ,\n",
    "    'Deciduous_ground': 56 ,\n",
    "    'Mixed_ground': 57 ,\n",
    "    'Grassland_ground': 58 ,\n",
    "    'Cropland_ground': 59 ,\n",
    "}\n",
    "classes_to_convert = list(sg_of_cat.keys())\n",
    "land_cover_values_of_class = {\n",
    "    c : [k for k,v in Land_cover_to_VPRM_class.items() if v==c] for c in Land_cover_to_VPRM_class.values() if c in classes_to_convert\n",
    "}\n",
    "land_cover_values_of_class"
   ]
  },
  {
   "cell_type": "code",
   "execution_count": null,
   "metadata": {},
   "outputs": [],
   "source": [
    "\n",
    "\n",
    "\n",
    "grid = GralGrid.from_gral_rundir(gral_dir)\n",
    "grid.crs = crs\n",
    "\n",
    "gral_gdf = gpd.GeoDataFrame(\n",
    "    geometry=[grid.get_bounding_polygon()],\n",
    "    crs=grid.crs\n",
    ").to_crs('LV95')\n",
    "\n"
   ]
  },
  {
   "cell_type": "code",
   "execution_count": null,
   "metadata": {},
   "outputs": [],
   "source": [
    "veg_height_da = rxr.open_rasterio(tree_heights_file).squeeze()\n",
    "# clip to gral\n",
    "veg_height_da = veg_height_da.rio.clip_box(*gral_gdf.total_bounds).squeeze()\n",
    "veg_height_da"
   ]
  },
  {
   "cell_type": "code",
   "execution_count": null,
   "metadata": {},
   "outputs": [],
   "source": [
    "from rasterio.enums import Resampling\n",
    "downscale_factor = 10\n",
    "new_width = int(veg_height_da.rio.width / downscale_factor)\n",
    "new_height = int(veg_height_da.rio.height / downscale_factor)\n",
    "\n",
    "veg_downsample_da = veg_height_da.rio.reproject(\n",
    "    veg_height_da.rio.crs,\n",
    "    shape=(new_height, new_width),\n",
    "    resampling=Resampling.average,\n",
    ")\n",
    "\n"
   ]
  },
  {
   "cell_type": "code",
   "execution_count": null,
   "metadata": {},
   "outputs": [],
   "source": [
    "landuse_da = rxr.open_rasterio(landuse_raster).squeeze()\n",
    "# Crop the landuse raster to the bounding box of the gral grid\n",
    "landuse_da = landuse_da.rio.clip_box(*gral_gdf.total_bounds)\n",
    "\n",
    "\n",
    "landuse_da"
   ]
  },
  {
   "cell_type": "code",
   "execution_count": null,
   "metadata": {},
   "outputs": [],
   "source": [
    "masks = {}\n",
    "for c, values in land_cover_values_of_class.items():\n",
    "\n",
    "    mask = landuse_da.isin(values)\n",
    "    # Add the class as a new dimension\n",
    "    mask = mask.expand_dims('class')\n",
    "    # Rename the dimension to class\n",
    "    mask = mask.rename({'band': 'class'})\n",
    "    # Set the class value\n",
    "    mask['class'] = [c]\n",
    "\n",
    "    masks[c] = mask"
   ]
  },
  {
   "cell_type": "code",
   "execution_count": null,
   "metadata": {},
   "outputs": [],
   "source": [
    "ds_classes = xr.concat(masks.values(), dim='class')\n",
    "\n",
    "new_width = int(ds_classes.rio.width / downscale_factor)\n",
    "new_height = int(ds_classes.rio.height / downscale_factor)\n",
    "\n",
    "ds_classes_resampled = ds_classes.astype(float).rio.reproject(\n",
    "    veg_height_da.rio.crs,\n",
    "    shape=(new_height, new_width),\n",
    "    resampling=Resampling.average,\n",
    ")"
   ]
  },
  {
   "cell_type": "code",
   "execution_count": null,
   "metadata": {},
   "outputs": [],
   "source": [
    "gral_gdf.total_bounds"
   ]
  },
  {
   "cell_type": "code",
   "execution_count": null,
   "metadata": {},
   "outputs": [],
   "source": [
    "dfs = {}\n",
    "# xmin, ymin, xmax, ymax = gral_gdf.total_bounds\n",
    "for cat, map in ds_classes_resampled.groupby(\"class\"):\n",
    "    map = map.squeeze()\n",
    "    # extract the coordinates of the cells\n",
    "    x, y = np.where(map > 0.02)\n",
    "    z = np.round(veg_downsample_da.values[x, y], 1)\n",
    "    lon, lat = map.x.values[y], map.y.values[x]\n",
    "    emission_rate = np.round(map.values[x, y], 2)\n",
    "    # Convert to the crs of the simulation\n",
    "    dx, dy = map.rio.resolution()\n",
    "    cell_start = gpd.points_from_xy(lon - dx / 2, lat - dy / 2, crs=map.rio.crs).to_crs(\n",
    "        \"LV03\"\n",
    "    )\n",
    "    lon, lat\n",
    "    # Create squares for each cell\n",
    "    # Save the squares\n",
    "    for t in ['normal', 'ground']:\n",
    "        cat = cat if t=='normal' else f'{cat}_{t}'\n",
    "        # We assume the emission go from the half size to the top\n",
    "        z_clipped = np.maximum(z / 2.0, 0.1)\n",
    "        z_to_write = z_clipped if t=='normal' else np.full_like(z_clipped, 0.1)\n",
    "        dfs[cat] = pd.DataFrame(\n",
    "            {\n",
    "                \"x\": np.round(cell_start.x, 1),\n",
    "                \"y\": np.round(cell_start.y, 1),\n",
    "                \"z\":  np.round(z_to_write, 1),\n",
    "                \"dx\": np.round(dx, 0),\n",
    "                \"dy\": np.round(np.abs(dy), 0),\n",
    "                \"dz\": np.round(z_to_write, 1),\n",
    "                \"emisson_rate\": emission_rate,\n",
    "                \"u1\": 0,\n",
    "                \"u2\": 0,\n",
    "                \"u3\": 0,\n",
    "                \"category\": sg_of_cat[cat],\n",
    "            }\n",
    "        )"
   ]
  },
  {
   "cell_type": "code",
   "execution_count": null,
   "metadata": {},
   "outputs": [],
   "source": [
    "with open(output_dir / \"cadastre.dat\", \"w\") as f:\n",
    "    # 1 line ignored\n",
    "    header = \"x,y,z,dx,dy,dz,emission_rate[kg/h],-,-,-,source_group\\n\"\n",
    "    f.write(header)\n",
    "    pd.concat(dfs.values()).to_csv(f, index=False, header=False, sep=\",\")\n"
   ]
  },
  {
   "cell_type": "code",
   "execution_count": null,
   "metadata": {},
   "outputs": [],
   "source": [
    "# SAve the source group in a json file\n",
    "import json\n",
    "with open(output_dir / \"source_groups.json\", \"w\") as f:\n",
    "    json.dump({sg: cat for cat, sg in sg_of_cat.items()}, f, indent=4)"
   ]
  },
  {
   "cell_type": "code",
   "execution_count": null,
   "metadata": {},
   "outputs": [],
   "source": [
    "# Read the output file of gral \n",
    "\n",
    "df = pd.read_csv(\"/scratch/snx3000/lconstan/gral/vegetation_zh/run_dir/GRAL_00001/ReceptorConcentrations.dat\", sep=\"\\t\", header=[0,1], \n",
    "            )\n",
    "df.drop(df.columns[-1], axis=1, inplace=True)"
   ]
  },
  {
   "cell_type": "code",
   "execution_count": null,
   "metadata": {},
   "outputs": [],
   "source": [
    "sites = df.columns.get_level_values(0).unique()\n",
    "sgs = df.columns.get_level_values(1).unique()\n",
    "\n",
    "#Make now a plot where we compare the emissions of the different sites\n",
    "# We group teh sg close to each site and each sg has the same color\n",
    "import matplotlib.pyplot as plt\n",
    "\n",
    "fig, ax = plt.subplots(figsize=(10, 10))\n",
    "for j, site in enumerate(sites):\n",
    "    serie = df.loc[4, site].astype(float)\n",
    "\n",
    "    \n",
    "    \n",
    "    # Make bars for each sg\n",
    "    for i, sg in enumerate(sgs):\n",
    "        ax.bar(j*10 + i, serie[sg], color=f'C{i}', label=sg)\n",
    "\n",
    "# Put the name of the sites as the label \n",
    "ax.set_xticks(np.arange(len(sites))*10 + 2.5)\n",
    "ax.set_xticklabels(sites)\n",
    "\n",
    "\n"
   ]
  },
  {
   "cell_type": "code",
   "execution_count": null,
   "metadata": {},
   "outputs": [],
   "source": []
  }
 ],
 "metadata": {
  "kernelspec": {
   "display_name": "gg",
   "language": "python",
   "name": "python3"
  },
  "language_info": {
   "codemirror_mode": {
    "name": "ipython",
    "version": 3
   },
   "file_extension": ".py",
   "mimetype": "text/x-python",
   "name": "python",
   "nbconvert_exporter": "python",
   "pygments_lexer": "ipython3",
   "version": "3.9.4"
  }
 },
 "nbformat": 4,
 "nbformat_minor": 2
}
