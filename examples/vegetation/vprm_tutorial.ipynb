{
 "cells": [
  {
   "cell_type": "markdown",
   "id": "6970ba6c",
   "metadata": {},
   "source": [
    "# VPRM timeseries\n",
    "\n",
    "This tutorial will show you how to create timeseries of emission for the vegetation \n",
    "photosynthesis and respiration model (VPRM) within emiproc.\n",
    "\n",
    "We will first prepare the input data, then run the model and finally visualize the results.\n",
    "\n",
    "If you want to learn more how to use emiproc VPRM, you can check [the documentation](https://emiproc.readthedocs.io/en/master/emissions_generation.html#vprm) "
   ]
  },
  {
   "cell_type": "code",
   "execution_count": null,
   "id": "41636496",
   "metadata": {},
   "outputs": [],
   "source": [
    "import matplotlib.pyplot as plt\n",
    "import pandas as pd\n",
    "import urllib.request\n",
    "\n",
    "from emiproc import  FILES_DIR\n",
    "from emiproc.profiles.vprm import calculate_vprm_emissions\n",
    "\n",
    "plt.style.use('default')\n",
    "\n",
    "# Set up the working directory, change this if you want to check the files\n",
    "# in a different location\n",
    "work_dir = FILES_DIR / 'vprm'\n",
    "work_dir.mkdir(exist_ok=True, parents=True)\n",
    "print(work_dir)"
   ]
  },
  {
   "cell_type": "markdown",
   "id": "b580a37b",
   "metadata": {},
   "source": [
    "## Prepare input data\n",
    "\n",
    "To run VPRM we need the following input data:\n",
    "\n",
    "- Satellite data to calculate the vegetation indices (EVI: Enhanced Vegetation Index and \n",
    "  NDVI: Normalized Difference Vegetation Index)\n",
    "- Meteorological data (temperature and radiation)\n",
    "- Vegetation parameters (constants for different vegetation types used in the model)\n",
    "\n",
    "\n",
    "This tutorial will focus on the city of Zurich, which provide good open source data.\n",
    "\n",
    "We will run vprm for the year 2024, with an hourly resolution.\n",
    "We won't treat spatial resolution in this tutorial, so we are only interested in the temporal profiles."
   ]
  },
  {
   "cell_type": "markdown",
   "id": "48bb45ed",
   "metadata": {},
   "source": [
    "### Meteorological data\n",
    "\n",
    "The city of zurich provides a good [meteorological dataset](https://data.stadt-zuerich.ch/dataset/ugz_meteodaten_stundenmittelwerte), wo we can use this directly."
   ]
  },
  {
   "cell_type": "code",
   "execution_count": null,
   "id": "0fb03d0b",
   "metadata": {},
   "outputs": [],
   "source": [
    "\n",
    "downlaod_link_meteo = \"https://data.stadt-zuerich.ch/dataset/ugz_meteodaten_stundenmittelwerte/download/ugz_ogd_meteo_h1_2024.csv\"\n",
    "# Download the meteorological data\n",
    "meteo_file = work_dir / 'meteo.csv'\n",
    "\n",
    "if not meteo_file.is_file():\n",
    "    urllib.request.urlretrieve(downlaod_link_meteo, meteo_file)\n",
    "\n",
    "df_meteo = pd.read_csv(meteo_file, parse_dates=['Datum'])\n",
    "df_meteo.head(10)"
   ]
  },
  {
   "cell_type": "markdown",
   "id": "fe244be1",
   "metadata": {},
   "source": [
    "For VPRM we need to extract the Temperature and radiation.\n",
    "So we will try to get the `T` and the `StrGlo` parameters from the data."
   ]
  },
  {
   "cell_type": "code",
   "execution_count": null,
   "id": "0689fb68",
   "metadata": {},
   "outputs": [],
   "source": [
    "cols = {}\n",
    "for var_in_data, var in {\n",
    "    \"T\": \"T\",\n",
    "    \"StrGlo\": \"Rad\",\n",
    "}.items():\n",
    "\n",
    "    mask_var = df_meteo[\"Parameter\"] == var_in_data\n",
    "    # Make the average over the different stations\n",
    "    serie = df_meteo.loc[mask_var, [\"Datum\", \"Wert\"]].groupby(\"Datum\").mean()['Wert']\n",
    "    cols[var] = serie\n",
    "\n",
    "df_meteo_cleaned = pd.concat(cols, axis=1)\n",
    "# Put to utc \n",
    "df_meteo_cleaned.index = df_meteo_cleaned.index.tz_convert('UTC').tz_localize(None)\n",
    "df_meteo_cleaned"
   ]
  },
  {
   "cell_type": "markdown",
   "id": "3bebb035",
   "metadata": {},
   "source": [
    "We can have a look at the data"
   ]
  },
  {
   "cell_type": "code",
   "execution_count": null,
   "id": "a0c672f3",
   "metadata": {},
   "outputs": [],
   "source": [
    "fig, axes = plt.subplots(2, 1,sharex=True)\n",
    "df_daily = df_meteo_cleaned.resample(\"d\").mean()\n",
    "axes[0].plot(df_daily.index, df_daily[\"T\"], label=\"Temperature\")\n",
    "axes[0].set_ylabel(\"Temperature [°C]\")\n",
    "axes[0].legend()\n",
    "axes[1].plot(df_daily.index, df_daily[\"Rad\"], label=\"Global radiation\")\n",
    "axes[1].set_ylabel(\"Global radiation [W/m²]\")\n",
    "axes[1].legend()\n"
   ]
  },
  {
   "cell_type": "markdown",
   "id": "d2860014",
   "metadata": {},
   "source": [
    "As expected, the temperature and radiation have daily fluctuations as well as seasonal ones. \n",
    "\n",
    "It seems we can use that data for the next steps."
   ]
  },
  {
   "cell_type": "markdown",
   "id": "a2aa07e9",
   "metadata": {},
   "source": [
    "### Satellite indicies \n",
    "\n",
    "We will use the `EVI` and `LSWI` indices to calculate the vegetation parameters.\n",
    "\n",
    "Usually you would need to download some satellite data and calculate the indices yourself.\n",
    "Then you will get the indices for different moment in the year.\n",
    "\n",
    "This is a bit tedious, so here we will simply use some timeseries that are already generated. In case you want to do it yourself, you can follow [this python tutorial](https://documentation.dataspace.copernicus.eu/notebook-samples/openeo/NDVI_Timeseries.html)\n",
    "\n",
    "\n",
    "The satellite indices are not always given directly, if you need to calculate them, you can\n",
    "use the emiproc function \n",
    "[calculate_vegetation_indices](https://emiproc.readthedocs.io/en/master/api/models.html#emiproc.profiles.vprm.calculate_vegetation_indices)"
   ]
  },
  {
   "cell_type": "code",
   "execution_count": null,
   "id": "7dfb4a61",
   "metadata": {},
   "outputs": [],
   "source": [
    "df_sat = pd.read_csv(work_dir / \"vegetation_indices.csv\", index_col=0, header=[0, 1], \n",
    "                 parse_dates=True)\n",
    "df_sat"
   ]
  },
  {
   "cell_type": "markdown",
   "id": "c711b1f4",
   "metadata": {},
   "source": [
    "This table contains the evi and ndvi indices for different vegetation types\n",
    "at different days in time (where a satellite pass was available)."
   ]
  },
  {
   "cell_type": "code",
   "execution_count": null,
   "id": "082aae7a",
   "metadata": {},
   "outputs": [],
   "source": [
    "df_sat.loc[\"2024\"].plot(linestyle=\"\", marker='o', figsize=(10, 5))"
   ]
  },
  {
   "cell_type": "markdown",
   "id": "95e736c9",
   "metadata": {},
   "source": [
    "We need to interpolate the data to get estimates for the whole year.\n",
    "Since it is very stochastic, we use a robust method to interpolate the data."
   ]
  },
  {
   "cell_type": "code",
   "execution_count": null,
   "id": "663a463d",
   "metadata": {},
   "outputs": [],
   "source": [
    "# monthly median\n",
    "df_sat_monthly_mean = df_sat.resample(\"MS\").median()\n",
    "# Add 15 days to be at the middle of the month\n",
    "df_sat_monthly_mean.index = df_sat_monthly_mean.index + pd.Timedelta(days=15)\n",
    "# Resample to hourly data and interpolate for the missing values\n",
    "df_sat_full = df_sat_monthly_mean.resample(\"h\").interpolate(method=\"akima\").reindex(\n",
    "    df_meteo_cleaned.index\n",
    ")\n",
    "\n",
    "ax = df_sat_full.plot(figsize=(10, 5))\n",
    "ax.legend(loc=\"upper right\", bbox_to_anchor=(1.25, 1))"
   ]
  },
  {
   "cell_type": "markdown",
   "id": "69e2e03f",
   "metadata": {},
   "source": [
    "This is a very rough estimate, but most of the important features are captured.\n",
    "\n",
    "We see lower values in the winter and higher values in the summer.\n",
    "Cropland has a huge drop in summer, which can happen when the crops are harvested."
   ]
  },
  {
   "cell_type": "markdown",
   "id": "ae278ad2",
   "metadata": {},
   "source": [
    "### Vegetation parameters\n",
    "\n",
    "For the parameters, we will use the original parameters from the [VPRM paper](https://doi.org/10.1029/2006GB002735)."
   ]
  },
  {
   "cell_type": "code",
   "execution_count": null,
   "id": "03321e4a",
   "metadata": {},
   "outputs": [],
   "source": [
    "df_indices_mahadevan = pd.read_csv(work_dir / \"vprm_parameters.csv\", index_col=\"Site\")\n",
    "df_indices_mahadevan\n"
   ]
  },
  {
   "cell_type": "markdown",
   "id": "d417c43b",
   "metadata": {},
   "source": [
    "## Run VPRM\n",
    "Now that we have all the input data, we can run VPRM.\n",
    "\n",
    "This is simply done by calling the function [calculate_vprm_emissions](https://emiproc.readthedocs.io/en/master/api/models.html#emiproc.profiles.vprm.calculate_vprm_emissions) .\n",
    "If you look at the documentation, you can also see the equations used."
   ]
  },
  {
   "cell_type": "code",
   "execution_count": null,
   "id": "3646b90f",
   "metadata": {},
   "outputs": [],
   "source": [
    "# Put all the timeseries together\n",
    "df_vprm = df_sat_full.copy()\n",
    "df_vprm[('T', 'global')] = df_meteo_cleaned['T']\n",
    "df_vprm[('RAD', 'global')] = df_meteo_cleaned['Rad']\n",
    "df_vprm\n",
    "\n"
   ]
  },
  {
   "cell_type": "code",
   "execution_count": null,
   "id": "cf3341b0",
   "metadata": {},
   "outputs": [],
   "source": [
    "# Choose which site to use for each category (rename the index)\n",
    "# Of course this is not what you should do \n",
    "# in a real application you should optimize the model to find the best parameters\n",
    "# but since we are just doing a tutorial, we will use the default parameters\n",
    "df_indices = df_indices_mahadevan.rename(\n",
    "    index={\n",
    "        \"NOBS\": \"Evergreen\",\n",
    "        \"HARVARD\": \"Deciduous\",\n",
    "        \"CORN_MEAD\": \"Cropland\",\n",
    "        \"VAIRA\": \"Grassland\",\n",
    "        \n",
    "    }\n",
    ")\n",
    "df_indices"
   ]
  },
  {
   "cell_type": "code",
   "execution_count": null,
   "id": "65c5d1eb",
   "metadata": {},
   "outputs": [],
   "source": [
    "df_emissions = calculate_vprm_emissions(\n",
    "    df=df_vprm,\n",
    "    df_vprm=df_indices,\n",
    "    \n",
    ")"
   ]
  },
  {
   "cell_type": "markdown",
   "id": "19756398",
   "metadata": {},
   "source": [
    "## Plot VPRM results\n",
    "\n",
    "Now we have another function that helps us to visualize the results."
   ]
  },
  {
   "cell_type": "markdown",
   "id": "9700c51e",
   "metadata": {},
   "source": [
    "### Average daily cycle for each month"
   ]
  },
  {
   "cell_type": "code",
   "execution_count": null,
   "id": "4dc83f1f",
   "metadata": {},
   "outputs": [],
   "source": [
    "from emiproc.plots.vprm import plot_vprm_params_per_veg_type\n",
    "\n",
    "\n",
    "plot_vprm_params_per_veg_type(df_emissions, df_indices, group_by='%m%H')"
   ]
  },
  {
   "cell_type": "markdown",
   "id": "f6c42420",
   "metadata": {},
   "source": [
    "We see nice diurnal cycles, which are stronger in summer.\n",
    "\n",
    "Different other parameters are shown to help us understand the results."
   ]
  },
  {
   "cell_type": "markdown",
   "id": "4d6ac42f",
   "metadata": {},
   "source": [
    "### Daily means"
   ]
  },
  {
   "cell_type": "code",
   "execution_count": null,
   "id": "60da117e",
   "metadata": {},
   "outputs": [],
   "source": [
    "plot_vprm_params_per_veg_type(df_emissions, df_indices, group_by='%m%d')"
   ]
  }
 ],
 "metadata": {
  "kernelspec": {
   "display_name": ".env",
   "language": "python",
   "name": "python3"
  },
  "language_info": {
   "codemirror_mode": {
    "name": "ipython",
    "version": 3
   },
   "file_extension": ".py",
   "mimetype": "text/x-python",
   "name": "python",
   "nbconvert_exporter": "python",
   "pygments_lexer": "ipython3",
   "version": "3.9.21"
  }
 },
 "nbformat": 4,
 "nbformat_minor": 5
}
