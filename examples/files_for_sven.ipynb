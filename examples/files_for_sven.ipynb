{
 "cells": [
  {
   "attachments": {},
   "cell_type": "markdown",
   "metadata": {},
   "source": [
    "# Emission files for Sven's test case\n",
    "\n",
    "Produce point source emission and corresponding temporal and vertical profiles for Sven Werchner's simple test case with H2O2 chemistry\n",
    "\n",
    "- produce point-source emission file for OEM\n",
    "- produce vertical profile\n",
    "- produce temporal profile"
   ]
  },
  {
   "attachments": {},
   "cell_type": "markdown",
   "metadata": {},
   "source": [
    "## Create Point source emission file\n",
    "The file is created for the ICON grid provided by Sven with two point sources releasing H2O2"
   ]
  },
  {
   "cell_type": "code",
   "execution_count": 1,
   "metadata": {},
   "outputs": [
    {
     "name": "stderr",
     "output_type": "stream",
     "text": [
      "/users/dbrunner/emiproc_venv/lib/python3.9/site-packages/geopandas/_compat.py:123: UserWarning: The Shapely GEOS version (3.11.1-CAPI-1.17.1) is incompatible with the GEOS version PyGEOS was compiled with (3.10.4-CAPI-1.16.2). Conversions between both will be slow.\n",
      "  warnings.warn(\n",
      "/users/dbrunner/python/emiproc/emiproc/emiproc/inventories/__init__.py:10: UserWarning: Shapely 2.0 is installed, but because PyGEOS is also installed, GeoPandas will still use PyGEOS by default for now. To force to use and test Shapely 2.0, you have to set the environment variable USE_PYGEOS=0. You can do this before starting the Python process, or in your code before importing geopandas:\n",
      "\n",
      "import os\n",
      "os.environ['USE_PYGEOS'] = '0'\n",
      "import geopandas\n",
      "\n",
      "In a future release, GeoPandas will switch to using Shapely by default. If you are using PyGEOS directly (calling PyGEOS functions on geometries from GeoPandas), this will then stop working and you are encouraged to migrate from PyGEOS to Shapely 2.0 (https://shapely.readthedocs.io/en/latest/migration_pygeos.html).\n",
      "  import geopandas as gpd\n"
     ]
    },
    {
     "ename": "ImportError",
     "evalue": "cannot import name 'get_constant_time_profile' from 'emiproc.exports.icon' (/users/dbrunner/python/emiproc/emiproc/emiproc/exports/icon.py)",
     "output_type": "error",
     "traceback": [
      "\u001b[0;31m---------------------------------------------------------------------------\u001b[0m",
      "\u001b[0;31mImportError\u001b[0m                               Traceback (most recent call last)",
      "Cell \u001b[0;32mIn[1], line 8\u001b[0m\n\u001b[1;32m      6\u001b[0m \u001b[39mfrom\u001b[39;00m \u001b[39memiproc\u001b[39;00m\u001b[39m.\u001b[39;00m\u001b[39mregrid\u001b[39;00m \u001b[39mimport\u001b[39;00m remap_inventory\n\u001b[1;32m      7\u001b[0m \u001b[39mfrom\u001b[39;00m \u001b[39memiproc\u001b[39;00m\u001b[39m.\u001b[39;00m\u001b[39mutilities\u001b[39;00m \u001b[39mimport\u001b[39;00m SEC_PER_YR\n\u001b[0;32m----> 8\u001b[0m \u001b[39mfrom\u001b[39;00m \u001b[39memiproc\u001b[39;00m\u001b[39m.\u001b[39;00m\u001b[39mexports\u001b[39;00m\u001b[39m.\u001b[39;00m\u001b[39micon\u001b[39;00m \u001b[39mimport\u001b[39;00m export_icon_oem, get_constant_time_profile\n\u001b[1;32m     10\u001b[0m \u001b[39mfrom\u001b[39;00m \u001b[39mshapely\u001b[39;00m\u001b[39m.\u001b[39;00m\u001b[39mgeometry\u001b[39;00m \u001b[39mimport\u001b[39;00m Point \n\u001b[1;32m     11\u001b[0m \u001b[39mimport\u001b[39;00m \u001b[39mgeopandas\u001b[39;00m \u001b[39mas\u001b[39;00m \u001b[39mgpd\u001b[39;00m\n",
      "\u001b[0;31mImportError\u001b[0m: cannot import name 'get_constant_time_profile' from 'emiproc.exports.icon' (/users/dbrunner/python/emiproc/emiproc/emiproc/exports/icon.py)"
     ]
    }
   ],
   "source": [
    "# imports\n",
    "from pathlib import Path\n",
    "from emiproc.inventories import Inventory\n",
    "from emiproc.grids import ICONGrid, WGS84_PROJECTED\n",
    "\n",
    "from emiproc.regrid import remap_inventory\n",
    "from emiproc.utilities import SEC_PER_YR\n",
    "from emiproc.exports.icon import export_icon_oem, get_constant_time_profile\n",
    "\n",
    "from shapely.geometry import Point \n",
    "import geopandas as gpd\n",
    "import numpy as np"
   ]
  },
  {
   "cell_type": "code",
   "execution_count": null,
   "metadata": {},
   "outputs": [],
   "source": [
    "# create inventory object from a GeoDataFrame (gdf) with the two point sources\n",
    "inv=Inventory.from_gdf(gdfs={\n",
    "    'point_source1': gpd.GeoDataFrame(\n",
    "        {\n",
    "        \"H2O2\": [4*SEC_PER_YR],\n",
    "        },\n",
    "        geometry=[Point(8.4,49.0)],\n",
    "        crs=\"EPSG:4326\",\n",
    "    ),\n",
    "    'point_source2': gpd.GeoDataFrame(\n",
    "        {\n",
    "        \"H2O2\": [4*SEC_PER_YR],\n",
    "        },\n",
    "        geometry=[Point(9.2,48.8)],\n",
    "        crs=\"EPSG:4326\",\n",
    "    ),\n",
    "    }\n",
    ")\n",
    "\n",
    "# Convert to a planar crs for the remapping to work\n",
    "inv.to_crs(WGS84_PROJECTED)"
   ]
  },
  {
   "attachments": {},
   "cell_type": "markdown",
   "metadata": {},
   "source": [
    "## Add the profiles"
   ]
  },
  {
   "cell_type": "code",
   "execution_count": null,
   "metadata": {},
   "outputs": [],
   "source": [
    "# Load from csv\n",
    "from emiproc.profiles.vertical_profiles import VerticalProfile\n",
    "\n",
    "vp1 = VerticalProfile(\n",
    "    ratios=np.array([0, 1]),\n",
    "    height=np.array([499, 501])\n",
    ")\n",
    "vp2 = VerticalProfile(\n",
    "    ratios=np.array([0, 1]),\n",
    "    height=np.array([999, 1001])\n",
    ")\n",
    "# Set an empty vertical profile for H2O2\n",
    "inv.set_profile(vp1, substance=\"H2O2\", category=\"point_source1\")\n",
    "inv.set_profile(vp2, substance=\"H2O2\", category=\"point_source2\")\n",
    "inv.set_profile(get_constant_time_profile(), substance=\"H2O2\")\n"
   ]
  },
  {
   "cell_type": "code",
   "execution_count": null,
   "metadata": {},
   "outputs": [],
   "source": [
    "# Load  icon grid and remap the inventory to this grid\n",
    "grid_file = Path(\n",
    "    r\"path/to/grid.nc\"\n",
    ")\n",
    "icon_grid = ICONGrid(grid_file)\n",
    "\n"
   ]
  },
  {
   "cell_type": "code",
   "execution_count": null,
   "metadata": {},
   "outputs": [],
   "source": [
    "remapped_points = remap_inventory(inv, icon_grid)"
   ]
  },
  {
   "cell_type": "code",
   "execution_count": null,
   "metadata": {},
   "outputs": [],
   "source": [
    "# export to ICON-compatible file\n",
    "export_icon_oem(\n",
    "    inv=remapped_points,\n",
    "    icon_grid_file=grid_file,\n",
    "    output_dir=grid_file.with_stem(f\"{grid_file.stem}_with_h2o2_emissions\"),\n",
    ")"
   ]
  },
  {
   "cell_type": "code",
   "execution_count": null,
   "metadata": {},
   "outputs": [],
   "source": [
    "# Investigate the output\n",
    "import xarray as xr\n",
    "\n",
    "ds = xr.load_dataset(r\"path/to/outputs/oem_gridded_emissions.nc\")\n",
    "\n",
    "np.unique(ds['point_source2-H2O2'])"
   ]
  },
  {
   "cell_type": "code",
   "execution_count": null,
   "metadata": {},
   "outputs": [],
   "source": []
  }
 ],
 "metadata": {
  "kernelspec": {
   "display_name": "Python 3",
   "language": "python",
   "name": "python3"
  },
  "language_info": {
   "codemirror_mode": {
    "name": "ipython",
    "version": 3
   },
   "file_extension": ".py",
   "mimetype": "text/x-python",
   "name": "python",
   "nbconvert_exporter": "python",
   "pygments_lexer": "ipython3",
   "version": "3.9.4"
  },
  "orig_nbformat": 4
 },
 "nbformat": 4,
 "nbformat_minor": 2
}
