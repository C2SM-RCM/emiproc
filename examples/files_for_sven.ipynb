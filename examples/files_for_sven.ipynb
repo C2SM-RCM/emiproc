{
 "cells": [
  {
   "attachments": {},
   "cell_type": "markdown",
   "metadata": {},
   "source": [
    "# Emission files for Sven's test case\n",
    "\n",
    "Produce point source emission and corresponding temporal and vertical profiles for Sven Werchner's simple test case with H2O2 chemistry\n",
    "\n",
    "- produce point-source emission file for OEM\n",
    "- produce vertical profile\n",
    "- produce temporal profile"
   ]
  },
  {
   "attachments": {},
   "cell_type": "markdown",
   "metadata": {},
   "source": [
    "## Create Point source emission file\n",
    "The file is created for the ICON grid provided by Sven with two point sources releasing H2O2"
   ]
  },
  {
   "cell_type": "code",
   "execution_count": 1,
   "metadata": {},
   "outputs": [
    {
     "name": "stderr",
     "output_type": "stream",
     "text": [
      "/users/dbrunner/emiproc_venv/lib/python3.9/site-packages/geopandas/_compat.py:123: UserWarning: The Shapely GEOS version (3.11.1-CAPI-1.17.1) is incompatible with the GEOS version PyGEOS was compiled with (3.10.4-CAPI-1.16.2). Conversions between both will be slow.\n",
      "  warnings.warn(\n",
      "/users/dbrunner/python/emiproc/emiproc/emiproc/inventories/__init__.py:10: UserWarning: Shapely 2.0 is installed, but because PyGEOS is also installed, GeoPandas will still use PyGEOS by default for now. To force to use and test Shapely 2.0, you have to set the environment variable USE_PYGEOS=0. You can do this before starting the Python process, or in your code before importing geopandas:\n",
      "\n",
      "import os\n",
      "os.environ['USE_PYGEOS'] = '0'\n",
      "import geopandas\n",
      "\n",
      "In a future release, GeoPandas will switch to using Shapely by default. If you are using PyGEOS directly (calling PyGEOS functions on geometries from GeoPandas), this will then stop working and you are encouraged to migrate from PyGEOS to Shapely 2.0 (https://shapely.readthedocs.io/en/latest/migration_pygeos.html).\n",
      "  import geopandas as gpd\n"
     ]
    }
   ],
   "source": [
    "# imports\n",
    "from pathlib import Path\n",
    "from emiproc.inventories import Inventory\n",
    "from emiproc.grids import ICONGrid, WGS84_PROJECTED\n",
    "\n",
    "from emiproc.inventories.utils import group_categories\n",
    "from emiproc.regrid import remap_inventory\n",
    "from emiproc.utilities import SEC_PER_YR\n",
    "from emiproc.exports.icon import export_icon_oem\n",
    "\n",
    "from shapely.geometry import Point \n",
    "import geopandas as gpd"
   ]
  },
  {
   "cell_type": "code",
   "execution_count": 2,
   "metadata": {},
   "outputs": [],
   "source": [
    "# create inventory object from a GeoDataFrame (gdf) with the two point sources\n",
    "inv=Inventory.from_gdf(gdfs={'point_sources': gpd.GeoDataFrame(\n",
    "    {\n",
    "    \"H2O2\": [4*SEC_PER_YR,4*SEC_PER_YR],\n",
    "    },\n",
    "    geometry=[Point(8.4,49.0), Point(9.2,48.8)],\n",
    "              crs=\"EPSG:4326\",\n",
    "              )}\n",
    ")\n",
    "\n",
    "# Convert to a planar crs for the remapping to work\n",
    "inv.to_crs(WGS84_PROJECTED)"
   ]
  },
  {
   "cell_type": "code",
   "execution_count": 3,
   "metadata": {},
   "outputs": [],
   "source": [
    "# Load  icon grid and remap the inventory to this grid\n",
    "grid_file = Path(\n",
    "    r\"/store/empa/em05/dbrunner/icon-art/werchner/grid4OEM/BASE_KA_DOM01.nc\"\n",
    ")\n",
    "icon_grid = ICONGrid(grid_file)\n",
    "\n",
    "remapped_point = remap_inventory(inv, icon_grid, grid_file.parent / f\"remapped_point_{grid_file.stem}\")"
   ]
  },
  {
   "cell_type": "code",
   "execution_count": 10,
   "metadata": {},
   "outputs": [],
   "source": [
    "# export to ICON-compatible file\n",
    "export_icon_oem(remapped_point, grid_file, grid_file.with_stem(f\"{grid_file.stem}_with_h2o2_emissions\"))"
   ]
  },
  {
   "attachments": {},
   "cell_type": "markdown",
   "metadata": {},
   "source": [
    "## Create vertical profiles file"
   ]
  },
  {
   "cell_type": "code",
   "execution_count": 25,
   "metadata": {},
   "outputs": [
    {
     "name": "stderr",
     "output_type": "stream",
     "text": [
      "Cannot find 'Substance' header in file=PosixPath('/users/dbrunner/python/emiproc/emiproc/files/profiles/h2o2_profile.csv').\n",
      "All substances will be treated the same way.\n"
     ]
    },
    {
     "data": {
      "text/plain": [
       "VerticalProfiles(ratios=array([[1. , 0. ],\n",
       "       [0.5, 0.5]]), height=[500.0, 1000.0])"
      ]
     },
     "execution_count": 25,
     "metadata": {},
     "output_type": "execute_result"
    }
   ],
   "source": [
    "# Load from csv\n",
    "from emiproc import FILES_DIR\n",
    "from emiproc.profiles import vertical_profiles\n",
    "    \n",
    "profiles, cat_sub = vertical_profiles.from_csv(\n",
    "    str(FILES_DIR) + \"/profiles/h2o2_profile.csv\"\n",
    ")   \n",
    "\n"
   ]
  },
  {
   "cell_type": "code",
   "execution_count": null,
   "metadata": {},
   "outputs": [],
   "source": [
    "# Plot the profiles\n",
    "fig, ax = plt.subplots(1, 1, figsize=(10, 5))\n",
    "for name, profile in zip(cat_sub, profiles.ratios):\n",
    "    ax.plot(profile, label=name)\n",
    "ax.legend()"
   ]
  },
  {
   "attachments": {},
   "cell_type": "markdown",
   "metadata": {},
   "source": [
    "## Time profiles"
   ]
  },
  {
   "cell_type": "code",
   "execution_count": null,
   "metadata": {},
   "outputs": [],
   "source": [
    "read_temporal_profiles(copernicus_profiles_dir)"
   ]
  },
  {
   "cell_type": "code",
   "execution_count": null,
   "metadata": {},
   "outputs": [],
   "source": [
    "# Profiles from a csv profiles file \n",
    "\n",
    "\n",
    "profiles = ['hour_in_day', 'day_in_week', 'month_in_year']\n",
    "profiles = {p: from_csv(copernicus_profiles_dir / f\"timeprofiles-{p}.csv\") for p in profiles}\n",
    "\n",
    "# Plot the profiles on 3 subplots and put the legend on a 4rth \n",
    "fig, axs = plt.subplots(2, 2, figsize=(10, 10))\n",
    "axs = axs.flatten()\n",
    "for ax, (name, profile) in zip(axs, profiles.items()):\n",
    "    for cat_name, cat_profile in profile.items():\n",
    "        ax.plot(cat_profile.ratios, label=cat_name)\n",
    "    ax.set_title(name)\n",
    "\n",
    "for cat_name, cat_profile in profile.items():\n",
    "    axs[-1].plot([], label=cat_name)\n",
    "axs[-1].legend()\n",
    "\n",
    "\n"
   ]
  },
  {
   "cell_type": "code",
   "execution_count": null,
   "metadata": {},
   "outputs": [],
   "source": []
  },
  {
   "cell_type": "code",
   "execution_count": null,
   "metadata": {},
   "outputs": [],
   "source": [
    "# Profiles from a yaml profiles file\n",
    "yaml_dir = emiproc.FILES_DIR / \"profiles\" / \"yamls\"\n",
    "yaml_profiles = {}\n",
    "for yml_file in yaml_dir.glob(\"*.yaml\"):\n",
    "    yaml_profiles[yml_file.stem] = from_yaml(yml_file)\n",
    "\n",
    "# Now with the yaml, each catoegory can have different types of profiles\n",
    "yaml_profiles['heat'], yaml_profiles['heavy']\n"
   ]
  },
  {
   "cell_type": "code",
   "execution_count": null,
   "metadata": {},
   "outputs": [],
   "source": [
    "# We can create an hourly time series of each categories to plot\n",
    "tss = {}\n",
    "for categorie in yaml_profiles.keys():\n",
    "    tss[categorie] = create_scaling_factors_time_serie(\n",
    "        start_time=\"2020-01-01\",\n",
    "        end_time=\"2022-04-28\",\n",
    "        profiles=yaml_profiles[categorie],\n",
    "    )\n",
    "fig, ax = plt.subplots(1, 1, figsize=(10, 5))\n",
    "# Create better colors \n",
    "colors = iter(plt.cm.tab10(np.linspace(0, 1, len(tss))))\n",
    "for name, ts in tss.items():\n",
    "    ax.plot(ts, label=name, color=next(colors))\n",
    "ax.legend()"
   ]
  },
  {
   "cell_type": "code",
   "execution_count": null,
   "metadata": {},
   "outputs": [],
   "source": [
    "# We can also save time profiles to yaml\n",
    "for categorie in yaml_profiles.keys():\n",
    "    yaml_file = emiproc.FILES_DIR / 'outputs' / f'test_{categorie}.yaml'\n",
    "    to_yaml(yaml_profiles[categorie], yaml_file)\n"
   ]
  },
  {
   "cell_type": "code",
   "execution_count": null,
   "metadata": {},
   "outputs": [],
   "source": []
  }
 ],
 "metadata": {
  "kernelspec": {
   "display_name": "Python 3",
   "language": "python",
   "name": "python3"
  },
  "language_info": {
   "codemirror_mode": {
    "name": "ipython",
    "version": 3
   },
   "file_extension": ".py",
   "mimetype": "text/x-python",
   "name": "python",
   "nbconvert_exporter": "python",
   "pygments_lexer": "ipython3",
   "version": "3.9.4"
  },
  "orig_nbformat": 4
 },
 "nbformat": 4,
 "nbformat_minor": 2
}
