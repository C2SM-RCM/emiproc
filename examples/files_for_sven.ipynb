{
 "cells": [
  {
   "attachments": {},
   "cell_type": "markdown",
   "metadata": {},
   "source": [
    "# Emission files for Sven's test case\n",
    "\n",
    "Produce point source emission and corresponding temporal and vertical profiles for Sven Werchner's simple test case with H2O2 chemistry\n",
    "\n",
    "- produce point-source emission file for OEM\n",
    "- produce vertical profile\n",
    "- produce temporal profile"
   ]
  },
  {
   "attachments": {},
   "cell_type": "markdown",
   "metadata": {},
   "source": [
    "## Create Point source emission file\n",
    "The file is created for the ICON grid provided by Sven with two point sources releasing H2O2"
   ]
  },
  {
   "cell_type": "code",
   "execution_count": 4,
   "metadata": {},
   "outputs": [],
   "source": [
    "# imports\n",
    "from pathlib import Path\n",
    "from emiproc.inventories import Inventory\n",
    "from emiproc.grids import WGS84, ICONGrid, WGS84_PROJECTED\n",
    "\n",
    "from emiproc.inventories.utils import group_categories\n",
    "from emiproc.regrid import remap_inventory\n",
    "from emiproc.utilities import SEC_PER_YR\n",
    "from emiproc.exports.icon import export_icon_oem\n",
    "\n",
    "from shapely.geometry import Point \n",
    "import geopandas as gpd\n",
    "import yaml"
   ]
  },
  {
   "cell_type": "code",
   "execution_count": 6,
   "metadata": {},
   "outputs": [],
   "source": [
    "# create inventory object from a GeoDataFrame (gdf) with the two point sources\n",
    "inv=Inventory.from_gdf(gdfs={'point_sources': gpd.GeoDataFrame(\n",
    "    {\n",
    "    \"H2O2\": [4*SEC_PER_YR,4*SEC_PER_YR],\n",
    "    },\n",
    "    geometry=[Point(8.4,49.0), Point(9.2,48.8)],\n",
    "              crs=\"EPSG:4326\",\n",
    "              )}\n",
    ")\n",
    "\n",
    "# Convert to a planar crs for the remapping to work\n",
    "inv.to_crs(WGS84_PROJECTED)"
   ]
  },
  {
   "cell_type": "code",
   "execution_count": 7,
   "metadata": {},
   "outputs": [],
   "source": [
    "# Load  icon grid and remap the inventory to this grid\n",
    "grid_file = Path(\n",
    "    r\"/store/empa/em05/dbrunner/icon-art/werchner/grid4OEM/BASE_KA_DOM01.nc\"\n",
    ")\n",
    "icon_grid = ICONGrid(grid_file)\n",
    "\n",
    "remapped_point = remap_inventory(inv, icon_grid, grid_file.parent / f\"remapped_point_{grid_file.stem}\")"
   ]
  },
  {
   "cell_type": "code",
   "execution_count": 8,
   "metadata": {},
   "outputs": [
    {
     "ename": "ImportError",
     "evalue": "The cartopy package is required to compute the country mask.",
     "output_type": "error",
     "traceback": [
      "\u001b[0;31m---------------------------------------------------------------------------\u001b[0m",
      "\u001b[0;31mImportError\u001b[0m                               Traceback (most recent call last)",
      "File \u001b[0;32m~/python/emiproc/emiproc/emiproc/utilities.py:86\u001b[0m, in \u001b[0;36mcompute_country_mask\u001b[0;34m(output_grid, resolution, nprocs)\u001b[0m\n\u001b[1;32m     85\u001b[0m \u001b[39mtry\u001b[39;00m:\n\u001b[0;32m---> 86\u001b[0m     \u001b[39mimport\u001b[39;00m \u001b[39mcartopy\u001b[39;00m\u001b[39m.\u001b[39;00m\u001b[39mio\u001b[39;00m\u001b[39m.\u001b[39;00m\u001b[39mshapereader\u001b[39;00m \u001b[39mas\u001b[39;00m \u001b[39mshpreader\u001b[39;00m\n\u001b[1;32m     87\u001b[0m \u001b[39mexcept\u001b[39;00m \u001b[39mImportError\u001b[39;00m:\n",
      "File \u001b[0;32m~/emiproc_venv/lib/python3.9/site-packages/cartopy/__init__.py:107\u001b[0m\n\u001b[1;32m    105\u001b[0m \u001b[39m# Commonly used sub-modules. Imported here to provide end-user\u001b[39;00m\n\u001b[1;32m    106\u001b[0m \u001b[39m# convenience.\u001b[39;00m\n\u001b[0;32m--> 107\u001b[0m \u001b[39mimport\u001b[39;00m \u001b[39mcartopy\u001b[39;00m\u001b[39m.\u001b[39;00m\u001b[39mcrs\u001b[39;00m  \u001b[39m# noqa: E402  module-level imports\u001b[39;00m\n\u001b[1;32m    108\u001b[0m \u001b[39mimport\u001b[39;00m \u001b[39mcartopy\u001b[39;00m\u001b[39m.\u001b[39;00m\u001b[39mfeature\u001b[39;00m  \u001b[39m# noqa: E402,F401  (unused import)\u001b[39;00m\n",
      "File \u001b[0;32m~/emiproc_venv/lib/python3.9/site-packages/cartopy/crs.py:27\u001b[0m\n\u001b[1;32m     25\u001b[0m \u001b[39mfrom\u001b[39;00m \u001b[39mshapely\u001b[39;00m\u001b[39m.\u001b[39;00m\u001b[39mprepared\u001b[39;00m \u001b[39mimport\u001b[39;00m prep\n\u001b[0;32m---> 27\u001b[0m \u001b[39mimport\u001b[39;00m \u001b[39mcartopy\u001b[39;00m\u001b[39m.\u001b[39;00m\u001b[39mtrace\u001b[39;00m\n\u001b[1;32m     30\u001b[0m \u001b[39mtry\u001b[39;00m:\n\u001b[1;32m     31\u001b[0m     \u001b[39m# https://github.com/pyproj4/pyproj/pull/912\u001b[39;00m\n",
      "\u001b[0;31mImportError\u001b[0m: libgeos_c.so.1: cannot open shared object file: No such file or directory",
      "\nDuring handling of the above exception, another exception occurred:\n",
      "\u001b[0;31mImportError\u001b[0m                               Traceback (most recent call last)",
      "Cell \u001b[0;32mIn[8], line 2\u001b[0m\n\u001b[1;32m      1\u001b[0m \u001b[39m# export to ICON-compatible file\u001b[39;00m\n\u001b[0;32m----> 2\u001b[0m export_icon_oem(remapped_point, grid_file, grid_file\u001b[39m.\u001b[39;49mwith_stem(\u001b[39mf\u001b[39;49m\u001b[39m\"\u001b[39;49m\u001b[39m{\u001b[39;49;00mgrid_file\u001b[39m.\u001b[39;49mstem\u001b[39m}\u001b[39;49;00m\u001b[39m_with_h2o2_emissions\u001b[39;49m\u001b[39m\"\u001b[39;49m))\n",
      "File \u001b[0;32m~/python/emiproc/emiproc/emiproc/exports/icon.py:129\u001b[0m, in \u001b[0;36mexport_icon_oem\u001b[0;34m(inv, icon_grid_file, output_dir, group_dict, country_resolution, temporal_profiles_type, year, nc_attributes)\u001b[0m\n\u001b[1;32m    127\u001b[0m \u001b[39melse\u001b[39;00m:\n\u001b[1;32m    128\u001b[0m     icon_grid \u001b[39m=\u001b[39m ICONGrid(icon_grid_file)\n\u001b[0;32m--> 129\u001b[0m     country_mask \u001b[39m=\u001b[39m compute_country_mask(icon_grid, country_resolution, \u001b[39m1\u001b[39;49m)\n\u001b[1;32m    130\u001b[0m     np\u001b[39m.\u001b[39msave(mask_file, country_mask)\n\u001b[1;32m    132\u001b[0m \u001b[39m# Save the profiles\u001b[39;00m\n",
      "File \u001b[0;32m~/python/emiproc/emiproc/emiproc/utilities.py:88\u001b[0m, in \u001b[0;36mcompute_country_mask\u001b[0;34m(output_grid, resolution, nprocs)\u001b[0m\n\u001b[1;32m     86\u001b[0m     \u001b[39mimport\u001b[39;00m \u001b[39mcartopy\u001b[39;00m\u001b[39m.\u001b[39;00m\u001b[39mio\u001b[39;00m\u001b[39m.\u001b[39;00m\u001b[39mshapereader\u001b[39;00m \u001b[39mas\u001b[39;00m \u001b[39mshpreader\u001b[39;00m\n\u001b[1;32m     87\u001b[0m \u001b[39mexcept\u001b[39;00m \u001b[39mImportError\u001b[39;00m:\n\u001b[0;32m---> 88\u001b[0m     \u001b[39mraise\u001b[39;00m \u001b[39mImportError\u001b[39;00m(\n\u001b[1;32m     89\u001b[0m         \u001b[39m\"\u001b[39m\u001b[39mThe cartopy package is required to compute the country mask.\u001b[39m\u001b[39m\"\u001b[39m\n\u001b[1;32m     90\u001b[0m     )\n\u001b[1;32m     92\u001b[0m \u001b[39mif\u001b[39;00m resolution \u001b[39min\u001b[39;00m [\u001b[39m\"\u001b[39m\u001b[39m10m\u001b[39m\u001b[39m\"\u001b[39m, \u001b[39m\"\u001b[39m\u001b[39m50m\u001b[39m\u001b[39m\"\u001b[39m]:\n\u001b[1;32m     93\u001b[0m     \u001b[39mprint\u001b[39m(\n\u001b[1;32m     94\u001b[0m         \u001b[39mf\u001b[39m\u001b[39m\"\u001b[39m\u001b[39mComputing the country mask with \u001b[39m\u001b[39m{\u001b[39;00mresolution\u001b[39m}\u001b[39;00m\u001b[39m resolution.\u001b[39m\u001b[39m\\n\u001b[39;00m\u001b[39m\"\u001b[39m\n\u001b[1;32m     95\u001b[0m         \u001b[39m\"\u001b[39m\u001b[39mConsider using a coarser resolution to speed up the process \u001b[39m\u001b[39m\"\u001b[39m\n\u001b[1;32m     96\u001b[0m         \u001b[39m\"\u001b[39m\u001b[39mif necessary.\u001b[39m\u001b[39m\"\u001b[39m\n\u001b[1;32m     97\u001b[0m     )\n",
      "\u001b[0;31mImportError\u001b[0m: The cartopy package is required to compute the country mask."
     ]
    }
   ],
   "source": [
    "# export to ICON-compatible file\n",
    "export_icon_oem(remapped_point, grid_file, grid_file.with_stem(f\"{grid_file.stem}_with_h2o2_emissions\"))"
   ]
  },
  {
   "cell_type": "code",
   "execution_count": null,
   "metadata": {},
   "outputs": [],
   "source": [
    "%load_ext autoreload\n",
    "%autoreload 2\n",
    "import numpy as np\n",
    "\n",
    "import matplotlib.pyplot as plt\n",
    "\n",
    "import emiproc\n",
    "from emiproc.profiles.temporal_profiles import (\n",
    "    TemporalProfile,\n",
    "    DailyProfile,\n",
    "    WeeklyProfile,\n",
    "    MounthsProfile,\n",
    "    create_scaling_factors_time_serie,\n",
    "    from_csv,\n",
    "    from_yaml,\n",
    "    to_yaml,\n",
    "    read_temporal_profiles,\n",
    ")\n",
    "from emiproc.profiles import vertical_profiles \n",
    "from emiproc.tests_utils.temporal_profiles import copernicus_profiles_dir"
   ]
  },
  {
   "attachments": {},
   "cell_type": "markdown",
   "metadata": {},
   "source": [
    "## Vertical profiles"
   ]
  },
  {
   "cell_type": "code",
   "execution_count": null,
   "metadata": {},
   "outputs": [],
   "source": [
    "# Load from csv\n",
    "\n",
    "profiles, cat_sub = vertical_profiles.from_csv(\n",
    "    copernicus_profiles_dir / \"vertical.csv\"\n",
    ")   "
   ]
  },
  {
   "cell_type": "code",
   "execution_count": null,
   "metadata": {},
   "outputs": [],
   "source": [
    "# Plot the profiles\n",
    "fig, ax = plt.subplots(1, 1, figsize=(10, 5))\n",
    "for name, profile in zip(cat_sub, profiles.ratios):\n",
    "    ax.plot(profile, label=name)\n",
    "ax.legend()"
   ]
  },
  {
   "attachments": {},
   "cell_type": "markdown",
   "metadata": {},
   "source": [
    "## Time profiles"
   ]
  },
  {
   "cell_type": "code",
   "execution_count": null,
   "metadata": {},
   "outputs": [],
   "source": [
    "read_temporal_profiles(copernicus_profiles_dir)"
   ]
  },
  {
   "cell_type": "code",
   "execution_count": null,
   "metadata": {},
   "outputs": [],
   "source": [
    "# Profiles from a csv profiles file \n",
    "\n",
    "\n",
    "profiles = ['hour_in_day', 'day_in_week', 'month_in_year']\n",
    "profiles = {p: from_csv(copernicus_profiles_dir / f\"timeprofiles-{p}.csv\") for p in profiles}\n",
    "\n",
    "# Plot the profiles on 3 subplots and put the legend on a 4rth \n",
    "fig, axs = plt.subplots(2, 2, figsize=(10, 10))\n",
    "axs = axs.flatten()\n",
    "for ax, (name, profile) in zip(axs, profiles.items()):\n",
    "    for cat_name, cat_profile in profile.items():\n",
    "        ax.plot(cat_profile.ratios, label=cat_name)\n",
    "    ax.set_title(name)\n",
    "\n",
    "for cat_name, cat_profile in profile.items():\n",
    "    axs[-1].plot([], label=cat_name)\n",
    "axs[-1].legend()\n",
    "\n",
    "\n"
   ]
  },
  {
   "cell_type": "code",
   "execution_count": null,
   "metadata": {},
   "outputs": [],
   "source": []
  },
  {
   "cell_type": "code",
   "execution_count": null,
   "metadata": {},
   "outputs": [],
   "source": [
    "# Profiles from a yaml profiles file\n",
    "yaml_dir = emiproc.FILES_DIR / \"profiles\" / \"yamls\"\n",
    "yaml_profiles = {}\n",
    "for yml_file in yaml_dir.glob(\"*.yaml\"):\n",
    "    yaml_profiles[yml_file.stem] = from_yaml(yml_file)\n",
    "\n",
    "# Now with the yaml, each catoegory can have different types of profiles\n",
    "yaml_profiles['heat'], yaml_profiles['heavy']\n"
   ]
  },
  {
   "cell_type": "code",
   "execution_count": null,
   "metadata": {},
   "outputs": [],
   "source": [
    "# We can create an hourly time series of each categories to plot\n",
    "tss = {}\n",
    "for categorie in yaml_profiles.keys():\n",
    "    tss[categorie] = create_scaling_factors_time_serie(\n",
    "        start_time=\"2020-01-01\",\n",
    "        end_time=\"2022-04-28\",\n",
    "        profiles=yaml_profiles[categorie],\n",
    "    )\n",
    "fig, ax = plt.subplots(1, 1, figsize=(10, 5))\n",
    "# Create better colors \n",
    "colors = iter(plt.cm.tab10(np.linspace(0, 1, len(tss))))\n",
    "for name, ts in tss.items():\n",
    "    ax.plot(ts, label=name, color=next(colors))\n",
    "ax.legend()"
   ]
  },
  {
   "cell_type": "code",
   "execution_count": null,
   "metadata": {},
   "outputs": [],
   "source": [
    "# We can also save time profiles to yaml\n",
    "for categorie in yaml_profiles.keys():\n",
    "    yaml_file = emiproc.FILES_DIR / 'outputs' / f'test_{categorie}.yaml'\n",
    "    to_yaml(yaml_profiles[categorie], yaml_file)\n"
   ]
  },
  {
   "cell_type": "code",
   "execution_count": null,
   "metadata": {},
   "outputs": [],
   "source": []
  },
  {
   "attachments": {},
   "cell_type": "markdown",
   "metadata": {},
   "source": [
    "### TNO profiles"
   ]
  },
  {
   "cell_type": "code",
   "execution_count": null,
   "metadata": {},
   "outputs": [],
   "source": [
    "from pathlib import Path\n",
    "import xarray as xr\n",
    "\n",
    "from emiproc.inventories.tno import TNO_Inventory\n",
    "\n",
    "tno_nc_file = Path(r\"C:\\Users\\coli\\Documents\\emiproc\\files\\TNO_6x6_GHGco_v4_0\\TNO_GHGco_v4_0_year2018.nc\")\n",
    "\n",
    "\n",
    "inv_tno = TNO_Inventory(tno_nc_file)"
   ]
  },
  {
   "attachments": {},
   "cell_type": "markdown",
   "metadata": {},
   "source": [
    "ICON Profiles"
   ]
  },
  {
   "cell_type": "code",
   "execution_count": null,
   "metadata": {},
   "outputs": [],
   "source": [
    "from pathlib import Path\n",
    "import xarray as xr\n",
    "\n",
    "nc_file = Path(r\"C:\\Users\\coli\\Documents\\ZH-CH-emission\\icon_europe_DOM01_with_tno_emissions_test_for_nikolai_bug\\hourofyear.nc\")\n",
    "\n",
    "ds = xr.open_dataset(nc_file)\n",
    "ds\n"
   ]
  },
  {
   "cell_type": "code",
   "execution_count": null,
   "metadata": {},
   "outputs": [],
   "source": [
    "cat = \"GNFR_R-CO2\"\n",
    "country = 0\n",
    "ds[cat].sel(country=country).plot()"
   ]
  },
  {
   "cell_type": "code",
   "execution_count": null,
   "metadata": {},
   "outputs": [],
   "source": []
  }
 ],
 "metadata": {
  "kernelspec": {
   "display_name": "Python 3",
   "language": "python",
   "name": "python3"
  },
  "language_info": {
   "codemirror_mode": {
    "name": "ipython",
    "version": 3
   },
   "file_extension": ".py",
   "mimetype": "text/x-python",
   "name": "python",
   "nbconvert_exporter": "python",
   "pygments_lexer": "ipython3",
   "version": "3.9.4"
  },
  "orig_nbformat": 4
 },
 "nbformat": 4,
 "nbformat_minor": 2
}
