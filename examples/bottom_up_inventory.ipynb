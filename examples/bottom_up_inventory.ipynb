{
 "cells": [
  {
   "cell_type": "markdown",
   "metadata": {},
   "source": [
    "# Bottom up inventory generation\n",
    "\n",
    "This script attempts to generate a bottom-up inventory as an example for the users.\n",
    "\n",
    "We will generate the emissions for few sectors using various data sources.\n",
    "The goal here is not to create a perfect inventory but to \n",
    "* show various examples how emissions can be calculated\n",
    "* show different needs in term of spatial and temporal modelling of emissions\n",
    "* how these can be integrated in emiproc \n",
    "\n",
    "We decided here to create the inventory for the\n",
    "[Corvo island](https://en.wikipedia.org/wiki/Corvo_Island) in the Azores\n",
    "as it is a small island so it will not cost a lot of processing and will be\n",
    "quite fun to do.\n",
    "It is a volcanic island with a population of around 384 people (2021).\n",
    "The biggest activites are agriculture and tourism."
   ]
  },
  {
   "cell_type": "code",
   "execution_count": null,
   "metadata": {},
   "outputs": [],
   "source": [
    "import logging\n",
    "\n",
    "import geopandas as gpd\n",
    "import pandas as pd\n",
    "import requests\n",
    "from shapely.geometry import LineString, Point, Polygon\n",
    "\n",
    "from emiproc.utils.osm import osm_json_to_gdf\n",
    "\n",
    "\n",
    "logging.basicConfig(level=logging.INFO)"
   ]
  },
  {
   "cell_type": "markdown",
   "metadata": {},
   "source": [
    "## Download Corvo from Openstreetmap\n",
    "\n",
    "We will download everything available from Openstreetmap for the island of Corvo.\n",
    "We will then see if we can extract some useful information from it.\n",
    "\n",
    "Note: If you would do that for a larger place you might get a lot of data to process.\n",
    "It could be a better idea to select only what you want.\n",
    "\n",
    "This firt part of the code is a bit more technical but if you look at the result, it should be quite easy to understand."
   ]
  },
  {
   "cell_type": "code",
   "execution_count": null,
   "metadata": {},
   "outputs": [],
   "source": [
    "\n",
    "# Define the bounding box\n",
    "\n",
    "# Corvo\n",
    "# bbox = (39.5813, -31.3172, 39.8117, -30.7782)\n",
    "# Faial\n",
    "bbox = (38.5004, -28.8535, 38.6598, -28.5885)\n"
   ]
  },
  {
   "cell_type": "code",
   "execution_count": null,
   "metadata": {},
   "outputs": [],
   "source": [
    "\n",
    "\n",
    "bbox = (39.5813, -31.3172, 39.8117, -30.7782)\n",
    "url = \"https://overpass-api.de/api/interpreter\"\n",
    "query = f\"\"\"[out:json];\n",
    "nwr({bbox[0]},{bbox[1]},{bbox[2]},{bbox[3]});\n",
    "out;\"\"\"\n",
    "response = requests.get(url, params={\"data\": query})\n",
    "data = response.json()"
   ]
  },
  {
   "cell_type": "code",
   "execution_count": null,
   "metadata": {},
   "outputs": [],
   "source": [
    "data_by_id = {x[\"id\"]: x for x in data[\"elements\"]}"
   ]
  },
  {
   "cell_type": "code",
   "execution_count": null,
   "metadata": {},
   "outputs": [],
   "source": [
    "\n",
    "gdf = osm_json_to_gdf(data, extract_tags=['landuse', 'building', 'highway'])\n",
    "\n",
    "gdf = gdf.set_index(\"id\")\n"
   ]
  },
  {
   "cell_type": "markdown",
   "metadata": {},
   "source": [
    "### Landuse tag\n",
    "\n",
    "The landuse tag gives us a lot of information on the island.\n",
    "\n",
    "Here we will have a look to all the landuse shapes availables."
   ]
  },
  {
   "cell_type": "code",
   "execution_count": null,
   "metadata": {},
   "outputs": [],
   "source": [
    "gdf_landuse = gdf.loc[gdf['landuse'].notnull()]\n",
    "gdf_landuse.explore('landuse')"
   ]
  },
  {
   "cell_type": "markdown",
   "metadata": {},
   "source": [
    "From the map, we can see we have various landuse types.\n",
    "\n",
    "We can get more information about land use on the [Openstreetmap wiki](https://wiki.openstreetmap.org/wiki/Key:landuse).\n",
    "\n",
    "In particular, here we will start with doing the emissions from the various argicutural activities.\n",
    "So we will focus on the following landuse types:\n",
    "* farmland (An area of farmland used for tillage (cereals, vegetables, oil plants, flowers)) \n",
    "* farmyard (An area of land with farm buildings like farmhouse, dwellings, farmsteads, sheds, stables, barns, equipment sheds, feed bunkers, etc. plus the open space in between them and the shrubbery/trees around them.)\n",
    "* meadow (A meadow or pasture: land primarily vegetated by grass and non-woody plants, mainly used for hay or grazing)"
   ]
  },
  {
   "cell_type": "code",
   "execution_count": null,
   "metadata": {},
   "outputs": [],
   "source": [
    "\n",
    "gdf_farmland = gdf.loc[gdf[\"landuse\"] == \"farmland\"]\n",
    "gdf_farmland.explore()"
   ]
  },
  {
   "cell_type": "markdown",
   "metadata": {},
   "source": [
    "### Emissions from cows \n",
    "\n",
    "As you probably know, cows are a major source of methane emissions by doing what is referred as \"Enteric Fermentation\".\n",
    "They contribute globally to around 14% of the total emissions of methane.\n",
    "\n",
    "As Corvo is a small highland with cattle as one of the main activities, this will be a very large source.\n",
    "\n",
    "\n",
    "To estimate the emissions from cows we need an emission factor, which is the amount of the ghg produced by a cow per unit of time.\n",
    "Let's use the table 10.11 from the [IPCC 2019 guidelines for the emissions factors](https://www.ipcc-nggip.iges.or.jp/public/2019rf/vol4.html).\n",
    "\n",
    "We assume that half cows are dairy cows: $ 126 \\frac{kg_{CH4}}{head\\ year}$ and the other half are beef cows: $ 52 \\frac{kg_{CH4}}{head\\ year}$.\n",
    "\n",
    "To find the number of cows, the only source is not so great, as just [a report from a tourist](http://v2.travelark.org/travel-blog-entry/modernnomad67/36/1467554508) that says about 1500 cows are on the island.\n",
    "\n"
   ]
  },
  {
   "cell_type": "code",
   "execution_count": null,
   "metadata": {},
   "outputs": [],
   "source": [
    "enteric_fermentation_CH4 = (126 + 52) / 2 * 1500\n",
    "# We need to convert the crs to a metric one\n",
    "gdf_farmland['area'] = gdf_farmland.geometry.to_crs(epsg=3763).area\n",
    "total_area_farmland = gdf_farmland['area'].sum()\n",
    "# We will assign emissions based on the size of the fields \n",
    "gdf_farmland['enteric_fermentation_CH4'] = enteric_fermentation_CH4 * gdf_farmland['area'] / total_area_farmland\n"
   ]
  },
  {
   "cell_type": "markdown",
   "metadata": {},
   "source": [
    "### Emissions for the Power plant \n",
    "\n",
    "If you research electricity production in Corvo, you will see a lot about how they will change to 100% renewable energy.\n",
    "Indeed for such a small island, it is quite easy to do so, and is also a project (though a bit old since from 2011) that \n",
    "makes a good marketing.\n",
    "There is even a scientific publication about it: [Integration of wind and hydrogen technologies in the power system of Corvo island, Azores: A cost-benefit analysis](https://doi.org/10.1016/j.ijhydene.2010.12.074).\n",
    "\n",
    "For this task, we will assume that there is a single power plant in Corvo, which is a diesel power plant.\n",
    "\n",
    "The publication teaches us the following:\n",
    "* The island has an annual demand of approximately 1084 MWh and peak of 182 kW. \n",
    "* The total fuel (diesel) consumption in Corvo is 288,051 L/yr and the total CO2 emissions produced yearly on the island are 758,532 kg/year\n",
    "* Emissions of other pollutants in kg/year: CO: 1872, UHC: 207, PM10: 141, SO2: 1523, NOx: 16707\n",
    "\n",
    "These values are probably overestimated for today since they already installed some {V plnat}\n",
    "\n",
    "\n",
    "With this we can easily write the data."
   ]
  },
  {
   "cell_type": "code",
   "execution_count": null,
   "metadata": {},
   "outputs": [],
   "source": [
    "emissions_powerplant = {\n",
    "    # CO: 1872, UHC: 207, PM10: 141, SO2: 1523, NOx: 16707\n",
    "    \"CO2\": 758532,\n",
    "    \"CO\": 1872,\n",
    "    \"UHC\": 207,\n",
    "    \"PM10\": 141,\n",
    "    \"SO2\": 1523,\n",
    "    \"NOx\": 16707,\n",
    "}\n",
    "# From maps\n",
    "location_powerplant = Point(-31.0975, 39.7111)"
   ]
  },
  {
   "cell_type": "markdown",
   "metadata": {},
   "source": [
    "#### Time profiles for the energy demand\n",
    "\n",
    "The paper above said they have received the energy demand profiles for the island.\n",
    "However in our current case we lack of this data so we will generate some data with a first guess."
   ]
  },
  {
   "cell_type": "code",
   "execution_count": null,
   "metadata": {},
   "outputs": [],
   "source": [
    "from emiproc.profiles.temporal_profiles import DailyProfile, WeeklyProfile, MounthsProfile\n",
    "\n",
    "# They show a morning peakd and an evening peak due to the consumption of the appliances\n",
    "daily_profile = DailyProfile(5*[0.01] + 4*[0.04] + 3*[0.030] + 6* [0.055] + 4*[0.085] + 2*[0.015])\n",
    "\n",
    "# For mounthly profiles, we have to do things differently, as we know that many tourists come in the summer\n",
    "monthly_profile = MounthsProfile([\n",
    "    0.055, 0.055, 0.055, 0.065, 0.09, 0.12, 0.13, 0.13, 0.11, 0.08, 0.055, 0.055\n",
    "])\n",
    "energy_profiles = [daily_profile, monthly_profile]\n",
    "plt.plot(daily_profile.ratios.T)"
   ]
  },
  {
   "cell_type": "markdown",
   "metadata": {},
   "source": [
    "### Emissions from heating\n",
    "\n",
    "Here again we are a bit lucky: A case study for replacing heating systems with heat pumps and solar thermal collectors in Corvo was done: https://doi.org/10.1016/j.renene.2014.06.046  \n",
    "\n",
    "The study gives us the following information:\n",
    "* DHW (Domestic hot water) butane gas demand: 335 MWh/year or 3315 bottles/year\n",
    "* 60% of the energy is for DHW\n",
    "* A guess of daily profiles for the DHW demand are given\n",
    "\n",
    "We can estimate that each house is equipped with a boiler and that depending on the size of the house, the demand will be different.\n",
    "\n",
    "Also we need to convert the energy demand to CO2 emissions. We will use the emission factors from table 2.5 \n",
    "of https://www.ipcc-nggip.iges.or.jp/public/2006gl/pdf/2_Volume2/V2_2_Ch2_Stationary_Combustion.pdf \n",
    "\n",
    "In kg/TJ:\n",
    "* CO2: 56100\n",
    "* CH4: 5\n",
    "* N2O: 0.1\n",
    "\n",
    "We still need to convert MWh to TJ.\n",
    "\n",
    "\n",
    "To get the building locations, we can use openstreetmap again and look for the building tag."
   ]
  },
  {
   "cell_type": "code",
   "execution_count": null,
   "metadata": {},
   "outputs": [],
   "source": [
    "# kg/TJ\n",
    "total_emissions = {\n",
    "    \"CO2\": 56100,\n",
    "    \"CH4\": 5,\n",
    "    \"N2O\": 0.1,\n",
    "}\n",
    "# Convert from MWh to TJ \n",
    "gas_demand = 335 * 3.6e-3 # MWh/year to TJ/year\n",
    "\n",
    "total_emissions = {k: v * gas_demand  for k, v in total_emissions.items()}"
   ]
  },
  {
   "cell_type": "code",
   "execution_count": null,
   "metadata": {},
   "outputs": [],
   "source": [
    "# We can check which buildings we have\n",
    "gdf_landuse = gdf.loc[gdf[\"building\"].notnull()]\n",
    "gdf_landuse.explore(\"building\")"
   ]
  },
  {
   "cell_type": "code",
   "execution_count": null,
   "metadata": {},
   "outputs": [],
   "source": [
    "# We will use only the domestic sectors, probably on real data you will have more than these categories\n",
    "residential_buildings = ['yes', 'house', 'apartments', 'detached', 'residential']\n",
    "gdf_residential = gdf.loc[gdf[\"building\"].isin(residential_buildings)].copy()\n",
    "gdf_residential['area'] = gdf_residential.geometry.to_crs(epsg=3763).area\n",
    "# Now we will assign emissions based on the size of the buildings\n",
    "for substance, emission in total_emissions.items():\n",
    "    gdf_residential[substance] = emission * gdf_residential['area'] / gdf_residential['area'].sum()\n",
    "gdf_residential.explore(\"CO2\")"
   ]
  },
  {
   "cell_type": "markdown",
   "metadata": {},
   "source": [
    "### Traffic emissions\n",
    "\n",
    "OSM has all the roads registerd in its system.\n",
    "\n",
    "However traffic data will not be easy to obtain.\n",
    "Most inhabitants don't have cars and the island is so small that the traffic is very low.\n",
    "One main road goes to the top of the crater and is used by tourists.\n",
    "Other roads are probably used by the farmers.\n",
    "For the tourists basically they can use a taxi to go to the top of the crater, or to move from the port or the airport to the hotel."
   ]
  },
  {
   "cell_type": "code",
   "execution_count": null,
   "metadata": {},
   "outputs": [],
   "source": [
    "gdf_traffic = gdf.loc[gdf['highway'].notnull()]\n",
    "gdf_traffic.explore('highway')"
   ]
  }
 ],
 "metadata": {
  "kernelspec": {
   "display_name": "Python 3",
   "language": "python",
   "name": "python3"
  },
  "language_info": {
   "codemirror_mode": {
    "name": "ipython",
    "version": 3
   },
   "file_extension": ".py",
   "mimetype": "text/x-python",
   "name": "python",
   "nbconvert_exporter": "python",
   "pygments_lexer": "ipython3",
   "version": "3.12.2"
  }
 },
 "nbformat": 4,
 "nbformat_minor": 2
}
