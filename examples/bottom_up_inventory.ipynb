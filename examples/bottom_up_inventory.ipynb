{
 "cells": [
  {
   "cell_type": "markdown",
   "metadata": {},
   "source": [
    "# Bottom up inventory generation\n",
    "\n",
    "This script attempts to generate a bottom-up inventory as an example for the users.\n",
    "\n",
    "We will generate the emissions for few sectors using various data sources.\n",
    "\n",
    "We decided here to create the inventory for the\n",
    "[Corvo island](https://en.wikipedia.org/wiki/Corvo_Island) in the Azores\n",
    "as it is a small island so it will not cost a lot of processing and will be\n",
    "quite fun to do.\n",
    "It is a volcanic island with a population of around 384 people (2021).\n",
    "The biggest activites are agriculture and tourism."
   ]
  },
  {
   "cell_type": "code",
   "execution_count": null,
   "metadata": {},
   "outputs": [],
   "source": [
    "import logging\n",
    "\n",
    "import geopandas as gpd\n",
    "import pandas as pd\n",
    "import requests\n",
    "from shapely.geometry import LineString, Point, Polygon\n",
    "\n",
    "from emiproc.utils.osm import osm_json_to_gdf\n",
    "\n",
    "\n",
    "logging.basicConfig(level=logging.INFO)"
   ]
  },
  {
   "cell_type": "markdown",
   "metadata": {},
   "source": [
    "## Download Corvo from Openstreetmap\n",
    "\n",
    "We will download everything available from Openstreetmap for the island of Corvo.\n",
    "We will then see if we can extract some useful information from it.\n",
    "\n",
    "Note: If you would do that for a larger place you might get a lot of data to process.\n",
    "It could be a better idea to select only what you want.\n",
    "\n",
    "This firt part of the code is a bit more technical but if you look at the result, it should be quite easy to understand."
   ]
  },
  {
   "cell_type": "code",
   "execution_count": null,
   "metadata": {},
   "outputs": [],
   "source": [
    "\n",
    "# Define the bounding box\n",
    "\n",
    "# Corvo\n",
    "# bbox = (39.5813, -31.3172, 39.8117, -30.7782)\n",
    "# Faial\n",
    "bbox = (38.5004, -28.8535, 38.6598, -28.5885)\n"
   ]
  },
  {
   "cell_type": "code",
   "execution_count": null,
   "metadata": {},
   "outputs": [],
   "source": [
    "\n",
    "\n",
    "bbox = (39.5813, -31.3172, 39.8117, -30.7782)\n",
    "url = \"https://overpass-api.de/api/interpreter\"\n",
    "query = f\"\"\"[out:json];\n",
    "nwr({bbox[0]},{bbox[1]},{bbox[2]},{bbox[3]});\n",
    "out;\"\"\"\n",
    "response = requests.get(url, params={\"data\": query})\n",
    "data = response.json()"
   ]
  },
  {
   "cell_type": "code",
   "execution_count": null,
   "metadata": {},
   "outputs": [],
   "source": [
    "data_by_id = {x[\"id\"]: x for x in data[\"elements\"]}"
   ]
  },
  {
   "cell_type": "code",
   "execution_count": null,
   "metadata": {},
   "outputs": [],
   "source": [
    "data_by_id[13543350]"
   ]
  },
  {
   "cell_type": "code",
   "execution_count": null,
   "metadata": {},
   "outputs": [],
   "source": [
    "data_by_id[1011532224]"
   ]
  },
  {
   "cell_type": "code",
   "execution_count": null,
   "metadata": {},
   "outputs": [],
   "source": [
    "data_by_id[9332831444]"
   ]
  },
  {
   "cell_type": "code",
   "execution_count": null,
   "metadata": {},
   "outputs": [],
   "source": [
    "\n",
    "gdf = osm_json_to_gdf(data)\n",
    "\n",
    "gdf = gdf.set_index(\"id\")\n"
   ]
  },
  {
   "cell_type": "code",
   "execution_count": null,
   "metadata": {},
   "outputs": [],
   "source": [
    "gdf.iloc[::-1].explore(\n",
    "    'name',\n",
    "    # Add some transparency\n",
    "    alpha=0.5,\n",
    ")"
   ]
  }
 ],
 "metadata": {
  "kernelspec": {
   "display_name": "Python 3",
   "language": "python",
   "name": "python3"
  },
  "language_info": {
   "codemirror_mode": {
    "name": "ipython",
    "version": 3
   },
   "file_extension": ".py",
   "mimetype": "text/x-python",
   "name": "python",
   "nbconvert_exporter": "python",
   "pygments_lexer": "ipython3",
   "version": "3.12.2"
  }
 },
 "nbformat": 4,
 "nbformat_minor": 2
}
